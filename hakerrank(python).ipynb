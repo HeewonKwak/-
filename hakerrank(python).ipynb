{
  "nbformat": 4,
  "nbformat_minor": 0,
  "metadata": {
    "colab": {
      "name": "hakerrank(python).ipynb",
      "provenance": [],
      "authorship_tag": "ABX9TyOQ7vL67t0WhxFacUdk7SkB",
      "include_colab_link": true
    },
    "kernelspec": {
      "name": "python3",
      "display_name": "Python 3"
    },
    "language_info": {
      "name": "python"
    }
  },
  "cells": [
    {
      "cell_type": "markdown",
      "metadata": {
        "id": "view-in-github",
        "colab_type": "text"
      },
      "source": [
        "<a href=\"https://colab.research.google.com/github/HeewonKwak/Algorithm/blob/main/hakerrank(python).ipynb\" target=\"_parent\"><img src=\"https://colab.research.google.com/assets/colab-badge.svg\" alt=\"Open In Colab\"/></a>"
      ]
    },
    {
      "cell_type": "code",
      "source": [
        "# https://www.hackerrank.com/challenges/alphabet-rangoli/problem\n",
        "\n",
        "def print_rangoli(size):\n",
        "    # your code goes here\n",
        "    a = \"abcdefghijklmnopqrstuvwxyz\"\n",
        "    for i in range(size):\n",
        "        b = a[(size-i-1):size]\n",
        "        c = b[::-1] + b[1:]\n",
        "        print(\"-\".join(c).center((4*size-3),'-'))\n",
        "    for i in range(size-1):\n",
        "        b = a[i+1:size]\n",
        "        c = b[::-1] + b[1:]\n",
        "        print(\"-\".join(c).center((4*size-3),'-'))\n",
        "    \n",
        "if __name__ == '__main__':\n",
        "    n = int(input())\n",
        "    print_rangoli(n)"
      ],
      "metadata": {
        "colab": {
          "base_uri": "https://localhost:8080/"
        },
        "id": "_UHbBGOJBPOG",
        "outputId": "b89e204f-1615-4ca2-9371-503bc2ac8d8c"
      },
      "execution_count": null,
      "outputs": [
        {
          "output_type": "stream",
          "name": "stdout",
          "text": [
            "--------e--------\n",
            "------e-d-e------\n",
            "----e-d-c-d-e----\n",
            "--e-d-c-b-c-d-e--\n",
            "e-d-c-b-a-b-c-d-e\n",
            "--e-d-c-b-c-d-e--\n",
            "----e-d-c-d-e----\n",
            "------e-d-e------\n",
            "--------e--------\n"
          ]
        }
      ]
    },
    {
      "cell_type": "code",
      "source": [
        "# https://www.hackerrank.com/challenges/capitalize/problem?isFullScreen=true&h_r=next-challenge&h_v=zen\n",
        "#!/bin/python3\n",
        "\n",
        "import math\n",
        "import os\n",
        "import random\n",
        "import re\n",
        "import sys\n",
        "\n",
        "# Complete the solve function below.\n",
        "def solve(s):\n",
        "    ans = s.capitalize()\n",
        "    ans = list(ans)\n",
        "    for i in range(1, len(ans)):\n",
        "        if ans[i].islower and ans[i-1] == \" \":\n",
        "            ans[i] = ans[i].upper()\n",
        "    return \"\".join(ans)\n",
        "            \n",
        "\n",
        "if __name__ == '__main__':\n",
        "    fptr = open(os.environ['OUTPUT_PATH'], 'w')\n",
        "\n",
        "    s = input()\n",
        "\n",
        "    result = solve(s)\n",
        "\n",
        "    fptr.write(result + '\\n')\n",
        "\n",
        "    fptr.close()\n"
      ],
      "metadata": {
        "id": "756YiYP6f_mj"
      },
      "execution_count": null,
      "outputs": []
    },
    {
      "cell_type": "code",
      "source": [
        "# https://www.hackerrank.com/challenges/np-dot-and-cross/problem?isFullScreen=true&h_r=next-challenge&h_v=zen\n",
        "\n",
        "import numpy\n",
        "\n",
        "n = int(input())\n",
        "\n",
        "a = []\n",
        "for i in range(n):\n",
        "    a.append(list(map(int,input().split())))\n",
        "A = numpy.array(a)\n",
        "\n",
        "b = []\n",
        "for i in range(n):\n",
        "    b.append(list(map(int,input().split())))\n",
        "B = numpy.array(b)\n",
        "\n",
        "print(numpy.dot(A,B))"
      ],
      "metadata": {
        "colab": {
          "base_uri": "https://localhost:8080/"
        },
        "id": "RoXvpvt_6T8T",
        "outputId": "97cb7734-edf5-443c-ee1a-c14496799c97"
      },
      "execution_count": null,
      "outputs": [
        {
          "output_type": "execute_result",
          "data": {
            "text/plain": [
              "array([[ 7, 10],\n",
              "       [15, 22]])"
            ]
          },
          "metadata": {},
          "execution_count": 55
        }
      ]
    },
    {
      "cell_type": "code",
      "source": [
        "# https://www.hackerrank.com/challenges/np-inner-and-outer/problem?isFullScreen=true&h_r=next-challenge&h_v=zen&h_r=next-challenge&h_v=zen\n",
        "# Python / Numpy / Inner and Outer\n",
        "\n",
        "import numpy\n",
        "\n",
        "A = numpy.array(list(map(int,input().split())))\n",
        "B = numpy.array(list(map(int,input().split())))\n",
        "\n",
        "print (numpy.inner(A, B))\n",
        "print (numpy.outer(A, B))"
      ],
      "metadata": {
        "id": "eptU5PF4-Geq"
      },
      "execution_count": null,
      "outputs": []
    },
    {
      "cell_type": "code",
      "source": [
        "# https://www.hackerrank.com/challenges/merge-the-tools/problem?isFullScreen=true\n",
        "# Python / Strings / Merge the Tools!\n",
        "\n",
        "def merge_the_tools(string, k):\n",
        "    # your code goes here\n",
        "    if k ==1:\n",
        "        for i in string:\n",
        "            print(i)\n",
        "    else:\n",
        "        for i in range(k):\n",
        "            ans1 = []\n",
        "            ans = string[i*k:(i+1)*k]\n",
        "            ans = list(ans)\n",
        "            for i in ans:\n",
        "                if i not in ans1:\n",
        "                    ans1.append(i)\n",
        "            print(\"\".join(ans1))\n",
        "\n",
        "if __name__ == '__main__':\n",
        "    string, k = input(), int(input())\n",
        "    merge_the_tools(string, k)"
      ],
      "metadata": {
        "id": "_L-O9iUxLG-l"
      },
      "execution_count": null,
      "outputs": []
    },
    {
      "cell_type": "code",
      "source": [
        "# https://www.hackerrank.com/challenges/np-eye-and-identity/problem?isFullScreen=true&h_r=next-challenge&h_v=zen\n",
        "# Python / Numpy / Eye and Identity\n",
        "\n",
        "import numpy\n",
        "\n",
        "n, m = map(int, input().split())\n",
        "\n",
        "print (str(numpy.eye(n, m, k =0)).replace('1',' 1').replace('0',' 0'))"
      ],
      "metadata": {
        "id": "pM4KSK7_NGye"
      },
      "execution_count": null,
      "outputs": []
    },
    {
      "cell_type": "code",
      "source": [
        "# https://www.hackerrank.com/challenges/np-array-mathematics/problem?isFullScreen=true&h_r=next-challenge&h_v=zen&h_r=next-challenge&h_v=zen\n",
        "# Python / Numpy / Array Mathematics\n",
        "\n",
        "import numpy\n",
        "\n",
        "n, m = map(int, input().split())\n",
        "\n",
        "a = []\n",
        "b = []\n",
        "\n",
        "for i in range(n):\n",
        "    a.append(list(map(int, input().split())))\n",
        "A = numpy.array(a)\n",
        "\n",
        "for i in range(n):\n",
        "    b.append(list(map(int, input().split())))\n",
        "B = numpy.array(b)\n",
        "\n",
        "print(A+B)\n",
        "print(A-B)\n",
        "print(A*B)\n",
        "print(A//B)\n",
        "print(A%B)\n",
        "print(A**B)"
      ],
      "metadata": {
        "id": "E64Disb9OuAv"
      },
      "execution_count": null,
      "outputs": []
    },
    {
      "cell_type": "code",
      "source": [
        "# https://www.hackerrank.com/challenges/floor-ceil-and-rint/problem?isFullScreen=true&h_r=next-challenge&h_v=zen&h_r=next-challenge&h_v=zen&h_r=next-challenge&h_v=zen\n",
        "# Python / Numpy / Floor, Ceil and Rint\n",
        "\n",
        "import numpy\n",
        "numpy.set_printoptions(legacy='1.13')\n",
        "\n",
        "my_array = numpy.array(list(map(float, input().split())))\n",
        "\n",
        "print(numpy.floor(my_array))\n",
        "print(numpy.ceil(my_array))\n",
        "print(numpy.rint(my_array))"
      ],
      "metadata": {
        "id": "251FnTzqQVvQ"
      },
      "execution_count": null,
      "outputs": []
    },
    {
      "cell_type": "code",
      "source": [
        "# https://www.hackerrank.com/challenges/np-sum-and-prod/problem?isFullScreen=true&h_r=next-challenge&h_v=zen&h_r=next-challenge&h_v=zen&h_r=next-challenge&h_v=zen&h_r=next-challenge&h_v=zen\n",
        "# Python / Numpy / Sum and Prod\n",
        "\n",
        "import numpy\n",
        "\n",
        "n, m = map(int, input().split())\n",
        "\n",
        "a = []\n",
        "\n",
        "for i in range(n):\n",
        "    a.append(list(map(int, input().split())))\n",
        "my_array = numpy.array(a)\n",
        "my_array = numpy.sum(my_array, axis = 0)\n",
        "\n",
        "print (numpy.prod(my_array))"
      ],
      "metadata": {
        "colab": {
          "base_uri": "https://localhost:8080/"
        },
        "id": "U77BLr00RdUY",
        "outputId": "f0d22fd7-a4c9-4c3d-c991-0cb9983fd7bb"
      },
      "execution_count": null,
      "outputs": [
        {
          "output_type": "stream",
          "name": "stdout",
          "text": [
            "3 3\n",
            "1 1 1\n",
            "1 1 1\n",
            "1 1 1\n",
            "27\n"
          ]
        }
      ]
    },
    {
      "cell_type": "markdown",
      "source": [
        "# 2022-02-28"
      ],
      "metadata": {
        "id": "Pn-h65yvkkPm"
      }
    },
    {
      "cell_type": "code",
      "source": [
        "# https://www.hackerrank.com/challenges/np-min-and-max/problem?isFullScreen=true&h_r=next-challenge&h_v=zen&h_r=next-challenge&h_v=zen&h_r=next-challenge&h_v=zen&h_r=next-challenge&h_v=zen&h_r=next-challenge&h_v=zen\n",
        "# Python / Numpy / Min and Max\n",
        "\n",
        "import numpy\n",
        "\n",
        "n, m = map(int, input().split())\n",
        "\n",
        "my_array = []\n",
        "\n",
        "for i in range(n):\n",
        "    my_array.append(list(map(int, input().split())))\n",
        "    \n",
        "my_array = numpy.array(my_array)\n",
        "\n",
        "print(max(numpy.min(my_array, axis=1)))"
      ],
      "metadata": {
        "id": "fQeYjSdKiR9p"
      },
      "execution_count": null,
      "outputs": []
    },
    {
      "cell_type": "code",
      "source": [
        "# https://www.hackerrank.com/challenges/np-mean-var-and-std/problem?isFullScreen=true&h_r=next-challenge&h_v=zen&h_r=next-challenge&h_v=zen&h_r=next-challenge&h_v=zen&h_r=next-challenge&h_v=zen&h_r=next-challenge&h_v=zen&h_r=next-challenge&h_v=zen\n",
        "# Python / Numpy / Mean, Var, and Std\n",
        "\n",
        "import numpy\n",
        "\n",
        "n, m = map(int, input().split())\n",
        "\n",
        "my_array = []\n",
        "\n",
        "for i in range(n):\n",
        "    my_array.append(list(map(int, input().split())))\n",
        "    \n",
        "my_array = numpy.array(my_array)\n",
        "\n",
        "print(numpy.mean(my_array, axis = 1))\n",
        "print(numpy.var(my_array, axis = 0))\n",
        "print(round(numpy.std(my_array, axis = None),11))"
      ],
      "metadata": {
        "id": "v8S3uZ7kkbek"
      },
      "execution_count": null,
      "outputs": []
    },
    {
      "cell_type": "code",
      "source": [
        "# https://www.hackerrank.com/challenges/find-angle/problem?isFullScreen=true\n",
        "# Python / Math / Find Angle MBC\n",
        "\n",
        "import math\n",
        "\n",
        "ab = int(input())\n",
        "bc = int(input())\n",
        "\n",
        "print(str(int(round(math.atan(ab/bc)*180/(math.pi),0)))+chr(176))"
      ],
      "metadata": {
        "id": "cK7r2yDCsQjV"
      },
      "execution_count": null,
      "outputs": []
    },
    {
      "cell_type": "code",
      "source": [
        "# https://www.hackerrank.com/challenges/triangle-quest-2/problem?isFullScreen=true&h_r=next-challenge&h_v=zen\n",
        "# Python / Math / Triangle Quest 2\n",
        "\n",
        "for i in range(1,int(input())+1): #More than 2 lines will result in 0 score. Do not leave a blank line also\n",
        "    print(\"\".join(str(j) for j in range(1,i)) + \"\".join(str(j)for j in range(i,0, -1)))\n",
        "\n",
        "# not using str()\n",
        "for i in range(1,int(input())+1):\n",
        "    print(((10**i)//9)**2)"
      ],
      "metadata": {
        "colab": {
          "base_uri": "https://localhost:8080/"
        },
        "id": "xX657li-snOO",
        "outputId": "21ec390b-839e-4bc7-98c8-5bb0e751a088"
      },
      "execution_count": null,
      "outputs": [
        {
          "output_type": "stream",
          "name": "stdout",
          "text": [
            "5\n",
            "1\n",
            "121\n",
            "12321\n",
            "1234321\n",
            "123454321\n"
          ]
        }
      ]
    },
    {
      "cell_type": "code",
      "source": [
        "# https://www.hackerrank.com/challenges/python-time-delta/problem?isFullScreen=true\n",
        "# Python / Date and Time / Time Delta\n",
        "\n",
        "#!/bin/python3\n",
        "# wrong answer: Runtime Error\n",
        "from datetime import datetime\n",
        "\n",
        "def time_delta(t1, t2):\n",
        "    # ['Sun', '10', 'May', '2015', '13:54:36', '-0700']\n",
        "    t1 = t1.split()\n",
        "    t2 = t2.split()\n",
        "    time1 = datetime.strptime(\"{0}-{1}-{2} {3}\".format(t1[3],t1[2],t1[1],t1[4]), \"%Y-%B-%d %H:%M:%S\")\n",
        "    time2 = datetime.strptime(\"{0}-{1}-{2} {3}\".format(t2[3],t2[2],t2[1],t2[4]), \"%Y-%B-%d %H:%M:%S\")\n",
        "    # print(time1)\n",
        "    # print(time2)\n",
        "    td = (time1 - time2).days * 24*3600 + (time1 - time2).seconds\n",
        "    # if t1[4][0]\n",
        "    td2 = - int(t1[5]) + int(t2[5])\n",
        "    if td2 > 0:\n",
        "        td += (td2//100*3600 + td2%100*60)\n",
        "    else:\n",
        "        td -= (-td2//100*3600 + -td2%100*60)\n",
        "    return td\n",
        "    \n",
        "\n",
        "if __name__ == '__main__':\n",
        "\n",
        "    t = int(input())\n",
        "\n",
        "    for t_itr in range(t):\n",
        "        t1 = input()\n",
        "\n",
        "        t2 = input()\n",
        "\n",
        "        delta = time_delta(t1, t2)\n",
        "\n",
        "        print(delta)\n",
        "\n",
        "# answer code\n",
        "\n",
        "from datetime import datetime\n",
        "\n",
        "def time_delta(t1, t2):\n",
        "    # ['Sun', '10', 'May', '2015', '13:54:36', '-0700']\n",
        "    form = \"%a %d %b %Y %H:%M:%S %z\"\n",
        "    time1 = datetime.strptime(t1, form)\n",
        "    time2 = datetime.strptime(t2, form)\n",
        "    td = (time1 - time2).total_seconds()\n",
        "    return int(abs(td))\n",
        "    \n",
        "\n",
        "if __name__ == '__main__':\n",
        "\n",
        "    t = int(input())\n",
        "\n",
        "    for t_itr in range(t):\n",
        "        t1 = input()\n",
        "\n",
        "        t2 = input()\n",
        "\n",
        "        delta = time_delta(t1, t2)\n",
        "\n",
        "        print(delta)\n"
      ],
      "metadata": {
        "colab": {
          "base_uri": "https://localhost:8080/"
        },
        "id": "j09OXJWPQtNc",
        "outputId": "8fa70437-23e3-440f-84a7-ed2148d5a2e8"
      },
      "execution_count": null,
      "outputs": [
        {
          "output_type": "execute_result",
          "data": {
            "text/plain": [
              "19800"
            ]
          },
          "metadata": {},
          "execution_count": 32
        }
      ]
    },
    {
      "cell_type": "code",
      "source": [
        "# https://www.hackerrank.com/challenges/compress-the-string/problem?isFullScreen=true\n",
        "# Python / Itertools / Compress the String!\n",
        "\n",
        "# Enter your code here. Read input from STDIN. Print output to STDOUT\n",
        "s = list(input())\n",
        "i = 0\n",
        "j = 1\n",
        "while(1):\n",
        "    if i == len(s) -1:\n",
        "        print((j, int(s[i])))\n",
        "        break\n",
        "    if s[i] == s[i+1]:\n",
        "        j +=1\n",
        "    else:\n",
        "        print((j, int(s[i])), end=\" \")\n",
        "        j = 1\n",
        "    i += 1"
      ],
      "metadata": {
        "id": "LDa1hAywtrJk"
      },
      "execution_count": null,
      "outputs": []
    },
    {
      "cell_type": "markdown",
      "source": [
        "## For blog, test code"
      ],
      "metadata": {
        "id": "B6wdHbTMp0Xb"
      }
    },
    {
      "cell_type": "code",
      "source": [
        "t1 = \"Fri 11 Feb 2078 00:05:21 +0400\"\n",
        "form = \"%a %d %b %Y %H:%M:%S %z\"\n",
        "time1 = datetime.strptime(t1, form)\n",
        "print(time1)"
      ],
      "metadata": {
        "colab": {
          "base_uri": "https://localhost:8080/"
        },
        "id": "vfxCG3A8n3C7",
        "outputId": "3ef62f35-766a-4d98-f572-4b8b5c8abcea"
      },
      "execution_count": null,
      "outputs": [
        {
          "output_type": "stream",
          "name": "stdout",
          "text": [
            "2078-02-11 00:05:21+04:00\n"
          ]
        }
      ]
    },
    {
      "cell_type": "code",
      "source": [
        "from datetime import datetime\n",
        "\n",
        "t1 = \"Fri 11 Feb 2078 00:05:21 +0400\"\n",
        "t2 = \"Mon 29 Dec 2064 03:33:48 -1100\"\n",
        "form = \"%a %d %b %Y %H:%M:%S %z\"\n",
        "time1 = datetime.strptime(t1, form)\n",
        "time2 = datetime.strptime(t2, form)\n",
        "\n",
        "print((time1 - time2).days)\n",
        "print((time1 - time2).seconds)\n",
        "print((time1 - time2).microseconds)\n",
        "print((time1 - time2).total_seconds())"
      ],
      "metadata": {
        "colab": {
          "base_uri": "https://localhost:8080/"
        },
        "id": "vCBo354nm4Mj",
        "outputId": "b71d1c58-17d7-4e05-d1d1-ce84f46f773f"
      },
      "execution_count": null,
      "outputs": [
        {
          "output_type": "stream",
          "name": "stdout",
          "text": [
            "4791\n",
            "19893\n",
            "0\n",
            "413962293.0\n"
          ]
        }
      ]
    },
    {
      "cell_type": "markdown",
      "source": [
        "# 2022-03-02"
      ],
      "metadata": {
        "id": "WcH6CXO-251k"
      }
    },
    {
      "cell_type": "code",
      "source": [
        "# https://www.hackerrank.com/challenges/itertools-product/problem?isFullScreen=true\n",
        "# Python / Itertools / itertools.product()\n",
        "\n",
        "# Enter your code here. Read input from STDIN. Print output to STDOUT\n",
        "from itertools import product\n",
        "\n",
        "a = list(map(int, input().split()))\n",
        "b = list(map(int, input().split()))\n",
        "\n",
        "for i in list(product(a,b)):\n",
        "    print(i, end=\" \")"
      ],
      "metadata": {
        "id": "fvYoGO5H25b7"
      },
      "execution_count": null,
      "outputs": []
    },
    {
      "cell_type": "code",
      "source": [
        "# https://www.hackerrank.com/challenges/itertools-permutations/problem?isFullScreen=true&h_r=next-challenge&h_v=zen\n",
        "# Python / Itertools / itertools.permutations()\n",
        "\n",
        "# Enter your code here. Read input from STDIN. Print output to STDOUT\n",
        "from itertools import permutations\n",
        "\n",
        "s, k = input().split()\n",
        "\n",
        "ans = list(permutations(s,int(k)))\n",
        "\n",
        "ans.sort()\n",
        "\n",
        "for i in (ans):\n",
        "    print(\"\".join(i))"
      ],
      "metadata": {
        "id": "Zl9QzRxc4VUC"
      },
      "execution_count": null,
      "outputs": []
    },
    {
      "cell_type": "code",
      "source": [
        "# https://www.hackerrank.com/challenges/itertools-combinations/problem?isFullScreen=true&h_r=next-challenge&h_v=zen&h_r=next-challenge&h_v=zen\n",
        "# Python / Itertools / itertools.combinations()\n",
        "\n",
        "# Enter your code here. Read input from STDIN. Print output to STDOUT\n",
        "from itertools import combinations\n",
        "\n",
        "s, k = input().split()\n",
        "\n",
        "ans = []\n",
        "\n",
        "for i in range(1,int(k)+1):\n",
        "    com = list(combinations(s,i))\n",
        "    for j in (com):\n",
        "        j = \"\".join(j)\n",
        "        ans.append(sorted(j))\n",
        "    ans.sort()   \n",
        "\n",
        "    for k in (ans):\n",
        "        if len(k) == i:\n",
        "            print(\"\".join(k))"
      ],
      "metadata": {
        "id": "_dVrii6T_epa"
      },
      "execution_count": null,
      "outputs": []
    },
    {
      "cell_type": "code",
      "source": [
        "# https://www.hackerrank.com/challenges/itertools-combinations-with-replacement/problem?isFullScreen=true&h_r=next-challenge&h_v=zen&h_r=next-challenge&h_v=zen&h_r=next-challenge&h_v=zen\n",
        "# Python / Itertools / itertools.combinations_with_replacement()\n",
        "\n",
        "# Enter your code here. Read input from STDIN. Print output to STDOUT\n",
        "\n",
        "from itertools import combinations_with_replacement\n",
        "\n",
        "s, k = input().split()\n",
        "\n",
        "ans = []\n",
        "\n",
        "com = list(combinations_with_replacement(s,int(k)))\n",
        "for i in (com):\n",
        "    i = \"\".join(i)\n",
        "    ans.append(sorted(i))\n",
        "ans.sort()   \n",
        "\n",
        "for j in (ans):\n",
        "    if len(j) == int(k):\n",
        "        print(\"\".join(j))"
      ],
      "metadata": {
        "id": "xp89LgS5A2DK"
      },
      "execution_count": null,
      "outputs": []
    },
    {
      "cell_type": "code",
      "source": [
        "# https://www.hackerrank.com/challenges/py-introduction-to-sets/problem?isFullScreen=true\n",
        "# Python / Sets / Introduction to Sets\n",
        "\n",
        "def average(array):\n",
        "    # your code goes here\n",
        "    array = set(array)\n",
        "    return round(sum(array) / len(array), 3)\n",
        "\n",
        "if __name__ == '__main__':\n",
        "    n = int(input())\n",
        "    arr = list(map(int, input().split()))\n",
        "    result = average(arr)\n",
        "    print(result)"
      ],
      "metadata": {
        "id": "fFCfsB26EdV_"
      },
      "execution_count": null,
      "outputs": []
    },
    {
      "cell_type": "code",
      "source": [
        "# https://www.hackerrank.com/challenges/symmetric-difference/problem?isFullScreen=true&h_r=next-challenge&h_v=zen\n",
        "# Python / Sets / Symmetric Difference\n",
        "\n",
        "# Enter your code here. Read input from STDIN. Print output to STDOUT\n",
        "\n",
        "m = int(input())\n",
        "a = set(map(int, input().split()))\n",
        "\n",
        "n = int(input())\n",
        "b = set(map(int, input().split()))\n",
        "\n",
        "ab = a.difference(b)\n",
        "ba = b.difference(a)\n",
        "\n",
        "ab.update(ba)\n",
        "\n",
        "ab = list(ab)\n",
        "ab.sort()\n",
        "\n",
        "for i in ab:\n",
        "    print(i)"
      ],
      "metadata": {
        "id": "hKWoiL3BIspg"
      },
      "execution_count": null,
      "outputs": []
    },
    {
      "cell_type": "code",
      "source": [
        "# https://www.hackerrank.com/challenges/no-idea/problem?isFullScreen=true\n",
        "# Python / Sets / No Idea!\n",
        "\n",
        "# Time limit exceeded(my code)\n",
        "# Enter your code here. Read input from STDIN. Print output to STDOUT\n",
        "\n",
        "n, m  = map(int, input().split())\n",
        "\n",
        "array = list(map(int, input().split()))\n",
        "\n",
        "a = set(map(int, input().split()))\n",
        "b = set(map(int, input().split()))\n",
        "\n",
        "lis1 = [i for i in array if i in (a.intersection(array))]\n",
        "lis2 = [j for j in array if j in (b.intersection(array))]\n",
        "\n",
        "num1 = len(lis1)\n",
        "num2 = len(lis2)\n",
        "\n",
        "print(num1-num2)\n",
        "\n",
        "# Get Hint! Using for at the same time\n",
        "\n",
        "# Enter your code here. Read input from STDIN. Print output to STDOUT\n",
        "\n",
        "n, m  = map(int, input().split())\n",
        "\n",
        "array = list(map(int, input().split()))\n",
        "\n",
        "a = set(map(int, input().split()))\n",
        "b = set(map(int, input().split()))\n",
        "\n",
        "a1 = a.difference(b)\n",
        "b1 = b.difference(a)\n",
        "\n",
        "ans = 0\n",
        "for i in array:\n",
        "    if i in a1:\n",
        "        ans += 1\n",
        "    elif i in b1:\n",
        "        ans -= 1\n",
        "\n",
        "print(ans)"
      ],
      "metadata": {
        "colab": {
          "base_uri": "https://localhost:8080/"
        },
        "id": "LcAIUTjRLyQg",
        "outputId": "c8a8d8b5-4661-44e8-952d-ec7ea93bffb3"
      },
      "execution_count": 4,
      "outputs": [
        {
          "output_type": "stream",
          "name": "stdout",
          "text": [
            "[1, 2, 2, 2, 3]\n",
            "[1, 2, 2, 3]\n"
          ]
        }
      ]
    },
    {
      "cell_type": "code",
      "source": [
        "# https://www.hackerrank.com/challenges/py-set-add/problem?isFullScreen=true\n",
        "# Python / Sets / Set .add()\n",
        "\n",
        "# Enter your code here. Read input from STDIN. Print output to STDOUT\n",
        "\n",
        "n = int(input())\n",
        "\n",
        "ans = set()\n",
        "for i in range(n):\n",
        "    ans.add(input())\n",
        "    \n",
        "print(len(ans))"
      ],
      "metadata": {
        "id": "61ienLF0h0Y0"
      },
      "execution_count": null,
      "outputs": []
    },
    {
      "cell_type": "code",
      "source": [
        "# https://www.hackerrank.com/challenges/py-set-discard-remove-pop/problem?isFullScreen=true\n",
        "# Python / Sets / Set .discard(), .remove() & .pop()\n",
        "\n",
        "n = int(input())\n",
        "s = set(map(int, input().split()))\n",
        "\n",
        "m = int(input())\n",
        "\n",
        "for i in range(m):\n",
        "    command = input().split()\n",
        "    if command[0] == \"pop\":\n",
        "        s.pop()\n",
        "    elif command[0] == \"discard\":\n",
        "        s.discard(int(command[1]))\n",
        "    elif command[0] == \"remove\":\n",
        "        s.remove(int(command[1]))\n",
        "\n",
        "print(sum(s))\n",
        "    "
      ],
      "metadata": {
        "colab": {
          "base_uri": "https://localhost:8080/"
        },
        "id": "n_BayvTSj2ih",
        "outputId": "58c8f7ca-5daa-4630-cea3-dfd344152119"
      },
      "execution_count": 5,
      "outputs": [
        {
          "output_type": "stream",
          "name": "stdout",
          "text": [
            "pop\n",
            "pop\n",
            "['pop']\n"
          ]
        }
      ]
    },
    {
      "cell_type": "code",
      "source": [
        "# https://www.hackerrank.com/challenges/py-set-union/problem?isFullScreen=true&h_r=next-challenge&h_v=zen\n",
        "# Python / Sets / Set .union() Operation\n",
        "\n",
        "# Enter your code here. Read input from STDIN. Print output to STDOUT\n",
        "\n",
        "n = int(input())\n",
        "a = set(map(int, input().split()))\n",
        "\n",
        "m = int(input())\n",
        "b = set(map(int, input().split()))\n",
        "\n",
        "print(len(a.union(b)))"
      ],
      "metadata": {
        "id": "iqgWvoT1mmxr"
      },
      "execution_count": null,
      "outputs": []
    },
    {
      "cell_type": "code",
      "source": [
        "# https://www.hackerrank.com/challenges/py-set-intersection-operation/problem?isFullScreen=true\n",
        "# Python / Sets / Set .intersection() Operation\n",
        "\n",
        "# Enter your code here. Read input from STDIN. Print output to STDOUT\n",
        "\n",
        "n = int(input())\n",
        "a = set(map(int, input().split()))\n",
        "\n",
        "m = int(input())\n",
        "b = set(map(int, input().split()))\n",
        "\n",
        "print(len(a.intersection(b)))"
      ],
      "metadata": {
        "id": "avuQzGpMm5L5"
      },
      "execution_count": null,
      "outputs": []
    },
    {
      "cell_type": "code",
      "source": [
        "# https://www.hackerrank.com/challenges/calendar-module/problem?isFullScreen=true\n",
        "# Python / Date and Time / Calendar Module\n",
        "\n",
        "# Enter your code here. Read input from STDIN. Print output to STDOUT\n",
        "import calendar\n",
        "\n",
        "month, day, year = map(int, input().split())\n",
        "\n",
        "weekdays = ['MONDAY', 'TUESDAY', 'WEDNESDAY', 'THURSDAY', 'FRIDAY', 'SATURDAY', 'SUNDAY']\n",
        "\n",
        "print(weekdays[calendar.weekday(year, month, day)])"
      ],
      "metadata": {
        "id": "yu5llwEZosKE"
      },
      "execution_count": null,
      "outputs": []
    }
  ]
}