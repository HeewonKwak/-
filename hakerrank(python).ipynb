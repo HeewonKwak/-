{
  "nbformat": 4,
  "nbformat_minor": 0,
  "metadata": {
    "colab": {
      "name": "hakerrank(python).ipynb",
      "provenance": [],
      "authorship_tag": "ABX9TyMHohxtO958NHg4NFmtmjTh",
      "include_colab_link": true
    },
    "kernelspec": {
      "name": "python3",
      "display_name": "Python 3"
    },
    "language_info": {
      "name": "python"
    }
  },
  "cells": [
    {
      "cell_type": "markdown",
      "metadata": {
        "id": "view-in-github",
        "colab_type": "text"
      },
      "source": [
        "<a href=\"https://colab.research.google.com/github/HeewonKwak/Algorithm/blob/main/hakerrank(python).ipynb\" target=\"_parent\"><img src=\"https://colab.research.google.com/assets/colab-badge.svg\" alt=\"Open In Colab\"/></a>"
      ]
    },
    {
      "cell_type": "code",
      "source": [
        "# https://www.hackerrank.com/challenges/alphabet-rangoli/problem\n",
        "\n",
        "def print_rangoli(size):\n",
        "    # your code goes here\n",
        "    a = \"abcdefghijklmnopqrstuvwxyz\"\n",
        "    for i in range(size):\n",
        "        b = a[(size-i-1):size]\n",
        "        c = b[::-1] + b[1:]\n",
        "        print(\"-\".join(c).center((4*size-3),'-'))\n",
        "    for i in range(size-1):\n",
        "        b = a[i+1:size]\n",
        "        c = b[::-1] + b[1:]\n",
        "        print(\"-\".join(c).center((4*size-3),'-'))\n",
        "    \n",
        "if __name__ == '__main__':\n",
        "    n = int(input())\n",
        "    print_rangoli(n)"
      ],
      "metadata": {
        "colab": {
          "base_uri": "https://localhost:8080/"
        },
        "id": "_UHbBGOJBPOG",
        "outputId": "b89e204f-1615-4ca2-9371-503bc2ac8d8c"
      },
      "execution_count": null,
      "outputs": [
        {
          "output_type": "stream",
          "name": "stdout",
          "text": [
            "--------e--------\n",
            "------e-d-e------\n",
            "----e-d-c-d-e----\n",
            "--e-d-c-b-c-d-e--\n",
            "e-d-c-b-a-b-c-d-e\n",
            "--e-d-c-b-c-d-e--\n",
            "----e-d-c-d-e----\n",
            "------e-d-e------\n",
            "--------e--------\n"
          ]
        }
      ]
    },
    {
      "cell_type": "code",
      "source": [
        "# https://www.hackerrank.com/challenges/capitalize/problem?isFullScreen=true&h_r=next-challenge&h_v=zen\n",
        "#!/bin/python3\n",
        "\n",
        "import math\n",
        "import os\n",
        "import random\n",
        "import re\n",
        "import sys\n",
        "\n",
        "# Complete the solve function below.\n",
        "def solve(s):\n",
        "    ans = s.capitalize()\n",
        "    ans = list(ans)\n",
        "    for i in range(1, len(ans)):\n",
        "        if ans[i].islower and ans[i-1] == \" \":\n",
        "            ans[i] = ans[i].upper()\n",
        "    return \"\".join(ans)\n",
        "            \n",
        "\n",
        "if __name__ == '__main__':\n",
        "    fptr = open(os.environ['OUTPUT_PATH'], 'w')\n",
        "\n",
        "    s = input()\n",
        "\n",
        "    result = solve(s)\n",
        "\n",
        "    fptr.write(result + '\\n')\n",
        "\n",
        "    fptr.close()\n"
      ],
      "metadata": {
        "id": "756YiYP6f_mj"
      },
      "execution_count": null,
      "outputs": []
    },
    {
      "cell_type": "code",
      "source": [
        "# https://www.hackerrank.com/challenges/np-dot-and-cross/problem?isFullScreen=true&h_r=next-challenge&h_v=zen\n",
        "\n",
        "import numpy\n",
        "\n",
        "n = int(input())\n",
        "\n",
        "a = []\n",
        "for i in range(n):\n",
        "    a.append(list(map(int,input().split())))\n",
        "A = numpy.array(a)\n",
        "\n",
        "b = []\n",
        "for i in range(n):\n",
        "    b.append(list(map(int,input().split())))\n",
        "B = numpy.array(b)\n",
        "\n",
        "print(numpy.dot(A,B))"
      ],
      "metadata": {
        "colab": {
          "base_uri": "https://localhost:8080/"
        },
        "id": "RoXvpvt_6T8T",
        "outputId": "97cb7734-edf5-443c-ee1a-c14496799c97"
      },
      "execution_count": null,
      "outputs": [
        {
          "output_type": "execute_result",
          "data": {
            "text/plain": [
              "array([[ 7, 10],\n",
              "       [15, 22]])"
            ]
          },
          "metadata": {},
          "execution_count": 55
        }
      ]
    },
    {
      "cell_type": "code",
      "source": [
        "# https://www.hackerrank.com/challenges/np-inner-and-outer/problem?isFullScreen=true&h_r=next-challenge&h_v=zen&h_r=next-challenge&h_v=zen\n",
        "# Python / Numpy / Inner and Outer\n",
        "\n",
        "import numpy\n",
        "\n",
        "A = numpy.array(list(map(int,input().split())))\n",
        "B = numpy.array(list(map(int,input().split())))\n",
        "\n",
        "print (numpy.inner(A, B))\n",
        "print (numpy.outer(A, B))"
      ],
      "metadata": {
        "id": "eptU5PF4-Geq"
      },
      "execution_count": null,
      "outputs": []
    },
    {
      "cell_type": "code",
      "source": [
        "# https://www.hackerrank.com/challenges/merge-the-tools/problem?isFullScreen=true\n",
        "# Python / Strings / Merge the Tools!\n",
        "\n",
        "def merge_the_tools(string, k):\n",
        "    # your code goes here\n",
        "    if k ==1:\n",
        "        for i in string:\n",
        "            print(i)\n",
        "    else:\n",
        "        for i in range(k):\n",
        "            ans1 = []\n",
        "            ans = string[i*k:(i+1)*k]\n",
        "            ans = list(ans)\n",
        "            for i in ans:\n",
        "                if i not in ans1:\n",
        "                    ans1.append(i)\n",
        "            print(\"\".join(ans1))\n",
        "\n",
        "if __name__ == '__main__':\n",
        "    string, k = input(), int(input())\n",
        "    merge_the_tools(string, k)"
      ],
      "metadata": {
        "id": "_L-O9iUxLG-l"
      },
      "execution_count": null,
      "outputs": []
    },
    {
      "cell_type": "code",
      "source": [
        "# https://www.hackerrank.com/challenges/np-eye-and-identity/problem?isFullScreen=true&h_r=next-challenge&h_v=zen\n",
        "# Python / Numpy / Eye and Identity\n",
        "\n",
        "import numpy\n",
        "\n",
        "n, m = map(int, input().split())\n",
        "\n",
        "print (str(numpy.eye(n, m, k =0)).replace('1',' 1').replace('0',' 0'))"
      ],
      "metadata": {
        "id": "pM4KSK7_NGye"
      },
      "execution_count": null,
      "outputs": []
    },
    {
      "cell_type": "code",
      "source": [
        "# https://www.hackerrank.com/challenges/np-array-mathematics/problem?isFullScreen=true&h_r=next-challenge&h_v=zen&h_r=next-challenge&h_v=zen\n",
        "# Python / Numpy / Array Mathematics\n",
        "\n",
        "import numpy\n",
        "\n",
        "n, m = map(int, input().split())\n",
        "\n",
        "a = []\n",
        "b = []\n",
        "\n",
        "for i in range(n):\n",
        "    a.append(list(map(int, input().split())))\n",
        "A = numpy.array(a)\n",
        "\n",
        "for i in range(n):\n",
        "    b.append(list(map(int, input().split())))\n",
        "B = numpy.array(b)\n",
        "\n",
        "print(A+B)\n",
        "print(A-B)\n",
        "print(A*B)\n",
        "print(A//B)\n",
        "print(A%B)\n",
        "print(A**B)"
      ],
      "metadata": {
        "id": "E64Disb9OuAv"
      },
      "execution_count": null,
      "outputs": []
    },
    {
      "cell_type": "code",
      "source": [
        "# https://www.hackerrank.com/challenges/floor-ceil-and-rint/problem?isFullScreen=true&h_r=next-challenge&h_v=zen&h_r=next-challenge&h_v=zen&h_r=next-challenge&h_v=zen\n",
        "# Python / Numpy / Floor, Ceil and Rint\n",
        "\n",
        "import numpy\n",
        "numpy.set_printoptions(legacy='1.13')\n",
        "\n",
        "my_array = numpy.array(list(map(float, input().split())))\n",
        "\n",
        "print(numpy.floor(my_array))\n",
        "print(numpy.ceil(my_array))\n",
        "print(numpy.rint(my_array))"
      ],
      "metadata": {
        "id": "251FnTzqQVvQ"
      },
      "execution_count": null,
      "outputs": []
    },
    {
      "cell_type": "code",
      "source": [
        "# https://www.hackerrank.com/challenges/np-sum-and-prod/problem?isFullScreen=true&h_r=next-challenge&h_v=zen&h_r=next-challenge&h_v=zen&h_r=next-challenge&h_v=zen&h_r=next-challenge&h_v=zen\n",
        "# Python / Numpy / Sum and Prod\n",
        "\n",
        "import numpy\n",
        "\n",
        "n, m = map(int, input().split())\n",
        "\n",
        "a = []\n",
        "\n",
        "for i in range(n):\n",
        "    a.append(list(map(int, input().split())))\n",
        "my_array = numpy.array(a)\n",
        "my_array = numpy.sum(my_array, axis = 0)\n",
        "\n",
        "print (numpy.prod(my_array))"
      ],
      "metadata": {
        "colab": {
          "base_uri": "https://localhost:8080/"
        },
        "id": "U77BLr00RdUY",
        "outputId": "f0d22fd7-a4c9-4c3d-c991-0cb9983fd7bb"
      },
      "execution_count": null,
      "outputs": [
        {
          "output_type": "stream",
          "name": "stdout",
          "text": [
            "3 3\n",
            "1 1 1\n",
            "1 1 1\n",
            "1 1 1\n",
            "27\n"
          ]
        }
      ]
    },
    {
      "cell_type": "markdown",
      "source": [
        "2022-02-28"
      ],
      "metadata": {
        "id": "Pn-h65yvkkPm"
      }
    },
    {
      "cell_type": "code",
      "source": [
        "# https://www.hackerrank.com/challenges/np-min-and-max/problem?isFullScreen=true&h_r=next-challenge&h_v=zen&h_r=next-challenge&h_v=zen&h_r=next-challenge&h_v=zen&h_r=next-challenge&h_v=zen&h_r=next-challenge&h_v=zen\n",
        "# Python / Numpy / Min and Max\n",
        "\n",
        "import numpy\n",
        "\n",
        "n, m = map(int, input().split())\n",
        "\n",
        "my_array = []\n",
        "\n",
        "for i in range(n):\n",
        "    my_array.append(list(map(int, input().split())))\n",
        "    \n",
        "my_array = numpy.array(my_array)\n",
        "\n",
        "print(max(numpy.min(my_array, axis=1)))"
      ],
      "metadata": {
        "id": "fQeYjSdKiR9p"
      },
      "execution_count": null,
      "outputs": []
    },
    {
      "cell_type": "code",
      "source": [
        "# https://www.hackerrank.com/challenges/np-mean-var-and-std/problem?isFullScreen=true&h_r=next-challenge&h_v=zen&h_r=next-challenge&h_v=zen&h_r=next-challenge&h_v=zen&h_r=next-challenge&h_v=zen&h_r=next-challenge&h_v=zen&h_r=next-challenge&h_v=zen\n",
        "# Python / Numpy / Mean, Var, and Std\n",
        "\n",
        "import numpy\n",
        "\n",
        "n, m = map(int, input().split())\n",
        "\n",
        "my_array = []\n",
        "\n",
        "for i in range(n):\n",
        "    my_array.append(list(map(int, input().split())))\n",
        "    \n",
        "my_array = numpy.array(my_array)\n",
        "\n",
        "print(numpy.mean(my_array, axis = 1))\n",
        "print(numpy.var(my_array, axis = 0))\n",
        "print(round(numpy.std(my_array, axis = None),11))"
      ],
      "metadata": {
        "id": "v8S3uZ7kkbek"
      },
      "execution_count": null,
      "outputs": []
    },
    {
      "cell_type": "code",
      "source": [
        "# https://www.hackerrank.com/challenges/find-angle/problem?isFullScreen=true\n",
        "# Python / Math / Find Angle MBC\n",
        "\n",
        "import math\n",
        "\n",
        "ab = int(input())\n",
        "bc = int(input())\n",
        "\n",
        "print(str(int(round(math.atan(ab/bc)*180/(math.pi),0)))+chr(176))"
      ],
      "metadata": {
        "id": "cK7r2yDCsQjV"
      },
      "execution_count": null,
      "outputs": []
    },
    {
      "cell_type": "code",
      "source": [
        "# https://www.hackerrank.com/challenges/triangle-quest-2/problem?isFullScreen=true&h_r=next-challenge&h_v=zen\n",
        "# Python / Math / Triangle Quest 2\n",
        "\n",
        "for i in range(1,int(input())+1): #More than 2 lines will result in 0 score. Do not leave a blank line also\n",
        "    print(\"\".join(str(j) for j in range(1,i)) + \"\".join(str(j)for j in range(i,0, -1)))\n",
        "\n",
        "# not using str()\n",
        "for i in range(1,int(input())+1):\n",
        "    print(((10**i)//9)**2)"
      ],
      "metadata": {
        "colab": {
          "base_uri": "https://localhost:8080/"
        },
        "id": "xX657li-snOO",
        "outputId": "21ec390b-839e-4bc7-98c8-5bb0e751a088"
      },
      "execution_count": 21,
      "outputs": [
        {
          "output_type": "stream",
          "name": "stdout",
          "text": [
            "5\n",
            "1\n",
            "121\n",
            "12321\n",
            "1234321\n",
            "123454321\n"
          ]
        }
      ]
    }
  ]
}