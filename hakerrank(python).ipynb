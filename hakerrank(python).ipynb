{
  "nbformat": 4,
  "nbformat_minor": 0,
  "metadata": {
    "colab": {
      "name": "hakerrank(python).ipynb",
      "provenance": [],
      "authorship_tag": "ABX9TyO2E4eX+ZUMBL8cGvINfdWy",
      "include_colab_link": true
    },
    "kernelspec": {
      "name": "python3",
      "display_name": "Python 3"
    },
    "language_info": {
      "name": "python"
    }
  },
  "cells": [
    {
      "cell_type": "markdown",
      "metadata": {
        "id": "view-in-github",
        "colab_type": "text"
      },
      "source": [
        "<a href=\"https://colab.research.google.com/github/HeewonKwak/Algorithm/blob/main/hakerrank(python).ipynb\" target=\"_parent\"><img src=\"https://colab.research.google.com/assets/colab-badge.svg\" alt=\"Open In Colab\"/></a>"
      ]
    },
    {
      "cell_type": "code",
      "source": [
        "# https://www.hackerrank.com/challenges/alphabet-rangoli/problem\n",
        "\n",
        "def print_rangoli(size):\n",
        "    # your code goes here\n",
        "    a = \"abcdefghijklmnopqrstuvwxyz\"\n",
        "    for i in range(size):\n",
        "        b = a[(size-i-1):size]\n",
        "        c = b[::-1] + b[1:]\n",
        "        print(\"-\".join(c).center((4*size-3),'-'))\n",
        "    for i in range(size-1):\n",
        "        b = a[i+1:size]\n",
        "        c = b[::-1] + b[1:]\n",
        "        print(\"-\".join(c).center((4*size-3),'-'))\n",
        "    \n",
        "if __name__ == '__main__':\n",
        "    n = int(input())\n",
        "    print_rangoli(n)"
      ],
      "metadata": {
        "colab": {
          "base_uri": "https://localhost:8080/"
        },
        "id": "_UHbBGOJBPOG",
        "outputId": "b89e204f-1615-4ca2-9371-503bc2ac8d8c"
      },
      "execution_count": 35,
      "outputs": [
        {
          "output_type": "stream",
          "name": "stdout",
          "text": [
            "--------e--------\n",
            "------e-d-e------\n",
            "----e-d-c-d-e----\n",
            "--e-d-c-b-c-d-e--\n",
            "e-d-c-b-a-b-c-d-e\n",
            "--e-d-c-b-c-d-e--\n",
            "----e-d-c-d-e----\n",
            "------e-d-e------\n",
            "--------e--------\n"
          ]
        }
      ]
    },
    {
      "cell_type": "code",
      "source": [
        "# https://www.hackerrank.com/challenges/capitalize/problem?isFullScreen=true&h_r=next-challenge&h_v=zen\n",
        "#!/bin/python3\n",
        "\n",
        "import math\n",
        "import os\n",
        "import random\n",
        "import re\n",
        "import sys\n",
        "\n",
        "# Complete the solve function below.\n",
        "def solve(s):\n",
        "    ans = s.capitalize()\n",
        "    ans = list(ans)\n",
        "    for i in range(1, len(ans)):\n",
        "        if ans[i].islower and ans[i-1] == \" \":\n",
        "            ans[i] = ans[i].upper()\n",
        "    return \"\".join(ans)\n",
        "            \n",
        "\n",
        "if __name__ == '__main__':\n",
        "    fptr = open(os.environ['OUTPUT_PATH'], 'w')\n",
        "\n",
        "    s = input()\n",
        "\n",
        "    result = solve(s)\n",
        "\n",
        "    fptr.write(result + '\\n')\n",
        "\n",
        "    fptr.close()\n"
      ],
      "metadata": {
        "id": "756YiYP6f_mj"
      },
      "execution_count": null,
      "outputs": []
    }
  ]
}