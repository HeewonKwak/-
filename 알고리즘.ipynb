{
  "nbformat": 4,
  "nbformat_minor": 0,
  "metadata": {
    "colab": {
      "name": "알고리즘.ipynb",
      "provenance": [],
      "collapsed_sections": [],
      "authorship_tag": "ABX9TyPkmp+yNhtal/xco1p815El",
      "include_colab_link": true
    },
    "kernelspec": {
      "name": "python3",
      "display_name": "Python 3"
    },
    "language_info": {
      "name": "python"
    }
  },
  "cells": [
    {
      "cell_type": "markdown",
      "metadata": {
        "id": "view-in-github",
        "colab_type": "text"
      },
      "source": [
        "<a href=\"https://colab.research.google.com/github/HeewonKwak/Algorithm/blob/main/%EC%95%8C%EA%B3%A0%EB%A6%AC%EC%A6%98.ipynb\" target=\"_parent\"><img src=\"https://colab.research.google.com/assets/colab-badge.svg\" alt=\"Open In Colab\"/></a>"
      ]
    },
    {
      "cell_type": "markdown",
      "source": [
        "# Studying Algorithm"
      ],
      "metadata": {
        "id": "RzCtAcjPqe4I"
      }
    },
    {
      "cell_type": "markdown",
      "source": [
        "## Basic\n"
      ],
      "metadata": {
        "id": "2g8tnfBhqtSP"
      }
    },
    {
      "cell_type": "code",
      "execution_count": null,
      "metadata": {
        "colab": {
          "base_uri": "https://localhost:8080/"
        },
        "id": "ZLEZgCS-qd-W",
        "outputId": "55436a74-e809-4d1f-bdd2-8220ed4a19e0"
      },
      "outputs": [
        {
          "output_type": "stream",
          "name": "stdout",
          "text": [
            "[[0, 0, 0, 0], [0, 0, 0, 0], [0, 0, 0, 0], [0, 0, 0, 0], [0, 0, 0, 0]]\n",
            "[[0, 0, 0, 0], [0, 3, 0, 0], [0, 0, 0, 0], [0, 0, 0, 0], [0, 0, 0, 0]]\n"
          ]
        }
      ],
      "source": [
        "# list comprehension\n",
        "n = 5\n",
        "m = 4\n",
        "array = [[0]*m for _ in range(n)]\n",
        "print(array)\n",
        "\n",
        "array[1][1] = 3\n",
        "print(array)"
      ]
    },
    {
      "cell_type": "code",
      "source": [
        "# Wrong method\n",
        "n = 5\n",
        "m = 4\n",
        "array = [[0] * m] * n\n",
        "print(array)\n",
        "\n",
        "array[1][1] = 3\n",
        "print(array)"
      ],
      "metadata": {
        "colab": {
          "base_uri": "https://localhost:8080/"
        },
        "id": "on1uU0h0rbhx",
        "outputId": "d547adae-bdd5-4f3e-ca23-76b51cb00000"
      },
      "execution_count": null,
      "outputs": [
        {
          "output_type": "stream",
          "name": "stdout",
          "text": [
            "[[0, 0, 0, 0], [0, 0, 0, 0], [0, 0, 0, 0], [0, 0, 0, 0], [0, 0, 0, 0]]\n",
            "[[0, 3, 0, 0], [0, 3, 0, 0], [0, 3, 0, 0], [0, 3, 0, 0], [0, 3, 0, 0]]\n"
          ]
        }
      ]
    },
    {
      "cell_type": "code",
      "source": [
        "# list method\n",
        "array = [1, 3, 7]\n",
        "\n",
        "array.append(5) # O(1)\n",
        "print(array)\n",
        "\n",
        "array.sort() # O(NlogN)\n",
        "print(array)\n",
        "\n",
        "array.sort(reverse=True) # O(NlogN)\n",
        "print(array)\n",
        "\n",
        "array.reverse() # O(N)\n",
        "print(array)\n",
        "\n",
        "array.insert(1, 3) # O(N)\n",
        "print(array)\n",
        "\n",
        "print(array.count(3)) # O(N)\n",
        "\n",
        "array.remove(5) # O(N)\n",
        "print(array)\n",
        "\n",
        "remove_set = {3}\n",
        "result = [i for i in array if i not in remove_set] # O(N)\n",
        "print(result)"
      ],
      "metadata": {
        "colab": {
          "base_uri": "https://localhost:8080/"
        },
        "id": "PvErboqWr4f_",
        "outputId": "1f8b6613-26f1-47e6-bb04-fc18ccd11f54"
      },
      "execution_count": null,
      "outputs": [
        {
          "output_type": "stream",
          "name": "stdout",
          "text": [
            "[1, 3, 7, 5]\n",
            "[1, 3, 5, 7]\n",
            "[7, 5, 3, 1]\n",
            "[1, 3, 5, 7]\n",
            "[1, 3, 3, 5, 7]\n",
            "2\n",
            "[1, 3, 3, 7]\n",
            "[1, 7]\n"
          ]
        }
      ]
    },
    {
      "cell_type": "code",
      "source": [
        "# 문자열\n",
        "a = \"Hello World!\"\n",
        "print(a)\n",
        "\n",
        "a = \"I'm \\\"Woni\\\"!\"\n",
        "print(a)"
      ],
      "metadata": {
        "colab": {
          "base_uri": "https://localhost:8080/"
        },
        "id": "f_5jMIG1uAJy",
        "outputId": "1660e53b-adc2-47c9-fd08-5cfb0bdc3a0b"
      },
      "execution_count": null,
      "outputs": [
        {
          "output_type": "stream",
          "name": "stdout",
          "text": [
            "Hello World!\n",
            "I'm \"Woni\"!\n"
          ]
        }
      ]
    },
    {
      "cell_type": "markdown",
      "source": [
        "## 튜플 사용하는 경우\n",
        "\n",
        "\n",
        "*   서로 다른 성질의 데이터를 묶어서 관리하는 경우\n",
        "\n",
        "  * 최단경로 알고리즘에서 (비용, 노드 번호)의 형태로 튜플 자료형을 자주 사용\n",
        "*   데이터의 나열을 해싱의 키 값으로 사용하는 경우\n",
        "\n",
        "  * 튜플은 변경이 불가능하므로 리스트와 다르게 키 값으로 사용 됨\n",
        "* 리스트보다 메모리를 효율적으로 사용하는 경우\n",
        "\n"
      ],
      "metadata": {
        "id": "Ic3b5KVfvHeH"
      }
    },
    {
      "cell_type": "markdown",
      "source": [
        "## 빠르게 입력 받기"
      ],
      "metadata": {
        "id": "Cl7F3Rtkxvj1"
      }
    },
    {
      "cell_type": "code",
      "source": [
        "import sys\n",
        "import time\n",
        "\n",
        "start_time = time.time()\n",
        "\n",
        "data = sys.stdin.readline().rstrip()\n",
        "end_time = time.time()\n",
        "\n",
        "print(data)\n",
        "print(end_time-start_time)"
      ],
      "metadata": {
        "colab": {
          "base_uri": "https://localhost:8080/"
        },
        "id": "ap26Z-6sv8wb",
        "outputId": "ed7e46c4-2275-411f-c47b-b46db67f2cad"
      },
      "execution_count": null,
      "outputs": [
        {
          "output_type": "stream",
          "name": "stdout",
          "text": [
            "\n",
            "9.751319885253906e-05\n"
          ]
        }
      ]
    },
    {
      "cell_type": "code",
      "source": [
        "start_time = time.time()\n",
        "\n",
        "data = input()\n",
        "end_time = time.time()\n",
        "\n",
        "print(data)\n",
        "print(end_time-start_time)"
      ],
      "metadata": {
        "colab": {
          "base_uri": "https://localhost:8080/"
        },
        "id": "EYmuWX7ZyuRP",
        "outputId": "344ce9fa-5350-48d2-848b-73e494716d31"
      },
      "execution_count": null,
      "outputs": [
        {
          "output_type": "stream",
          "name": "stdout",
          "text": [
            "3, 5, 7\n",
            "3, 5, 7\n",
            "6.803521633148193\n"
          ]
        }
      ]
    },
    {
      "cell_type": "markdown",
      "source": [
        "## 조건문"
      ],
      "metadata": {
        "id": "UHD52H5z0Fkt"
      }
    },
    {
      "cell_type": "code",
      "source": [
        "# Conditional Expression\n",
        "score = 99\n",
        "result = \"Success\" if score > 90 else \"Fail\"\n",
        "\n",
        "print(result)"
      ],
      "metadata": {
        "colab": {
          "base_uri": "https://localhost:8080/"
        },
        "id": "sytit8Y30H2R",
        "outputId": "c4d86d75-b2c0-4d9d-e10c-c9e00646764c"
      },
      "execution_count": null,
      "outputs": [
        {
          "output_type": "stream",
          "name": "stdout",
          "text": [
            "Success\n"
          ]
        }
      ]
    },
    {
      "cell_type": "markdown",
      "source": [
        "## lambda"
      ],
      "metadata": {
        "id": "XQI1kigy4B_G"
      }
    },
    {
      "cell_type": "code",
      "source": [
        "def add(a,b):\n",
        "  return a + b\n",
        "print(add(3,7))\n",
        "print((lambda a,b: a+b)(3,7))"
      ],
      "metadata": {
        "colab": {
          "base_uri": "https://localhost:8080/"
        },
        "id": "GHfkuuRC4EhG",
        "outputId": "0f90dece-e7e4-4507-b164-50a34efb7310"
      },
      "execution_count": null,
      "outputs": [
        {
          "output_type": "stream",
          "name": "stdout",
          "text": [
            "10\n",
            "10\n"
          ]
        }
      ]
    },
    {
      "cell_type": "code",
      "source": [
        "array = [('홍길동', 50), ('이순신', 32), ('아무개', 74)]\n",
        "\n",
        "def my_key(x):\n",
        "  return x[1]\n",
        "\n",
        "print(sorted(array, key=my_key))\n",
        "print(sorted(array, key=lambda x:x[1]))"
      ],
      "metadata": {
        "colab": {
          "base_uri": "https://localhost:8080/"
        },
        "id": "XdNGCwOR4uOR",
        "outputId": "ed0764f2-6043-4fb6-b7fb-7ee17bfc3f20"
      },
      "execution_count": null,
      "outputs": [
        {
          "output_type": "stream",
          "name": "stdout",
          "text": [
            "[('이순신', 32), ('홍길동', 50), ('아무개', 74)]\n",
            "[('이순신', 32), ('홍길동', 50), ('아무개', 74)]\n"
          ]
        }
      ]
    },
    {
      "cell_type": "code",
      "source": [
        "list1 = [1,2,3]\n",
        "list2 = [4,5,6]\n",
        "\n",
        "result = map(lambda a, b: a+b, list1, list2)\n",
        "\n",
        "print(list(result))"
      ],
      "metadata": {
        "colab": {
          "base_uri": "https://localhost:8080/"
        },
        "id": "op8Q7qET5amW",
        "outputId": "8efb8527-fe4f-474e-819e-d433d251a8a9"
      },
      "execution_count": null,
      "outputs": [
        {
          "output_type": "stream",
          "name": "stdout",
          "text": [
            "[5, 7, 9]\n"
          ]
        }
      ]
    },
    {
      "cell_type": "markdown",
      "source": [
        "## 실전에서 유용한 표준 라이브러리\n",
        "\n",
        "\n",
        "\n",
        "*   내장 함수\n",
        "*   itertools: 반복 형태의 데이터를 처리, 순열과 조합에 사용\n",
        "*   heapq: 힙 자료구조, 우선순위 큐 기능 구현\n",
        "*   bisect: 이진 탐색\n",
        "*   collections: 덱, 카운터\n",
        "*   math: 펙토리얼, 제곱근, 최대공약수, 삼각함수, 파이(pi)\n"
      ],
      "metadata": {
        "id": "rW7CQtOZ6aBE"
      }
    },
    {
      "cell_type": "code",
      "source": [
        "# 내장 함수\n",
        "\n",
        "# sum()\n",
        "result = sum([1,2,3])\n",
        "print(result)\n",
        "\n",
        "# min(), max()\n",
        "print(min(1,2,3))\n",
        "print(max(1,2,3))\n",
        "\n",
        "# eval()\n",
        "result = eval(\"(1+2)*3\")\n",
        "print(result)\n",
        "\n",
        "# sorted()\n",
        "print(sorted([3, 5, 2, 1]))\n",
        "print(sorted([3, 5, 2, 1], reverse=True))\n",
        "\n",
        "# sorted() with key\n",
        "array = [('홍길동', 50), ('이순신', 32), ('아무개', 74)]\n",
        "print(sorted(array, key=lambda x:x[1], reverse=True))"
      ],
      "metadata": {
        "colab": {
          "base_uri": "https://localhost:8080/"
        },
        "id": "OepSOLmp6H-l",
        "outputId": "190481b0-41d7-4fad-ecfe-64eb4e9e0f4e"
      },
      "execution_count": null,
      "outputs": [
        {
          "output_type": "stream",
          "name": "stdout",
          "text": [
            "6\n",
            "1\n",
            "3\n",
            "9\n",
            "[1, 2, 3, 5]\n",
            "[5, 3, 2, 1]\n",
            "[('아무개', 74), ('홍길동', 50), ('이순신', 32)]\n"
          ]
        }
      ]
    },
    {
      "cell_type": "code",
      "source": [
        "# itertools\n",
        "\n",
        "# 순열\n",
        "from itertools import permutations\n",
        "\n",
        "data = ['A', 'B', 'C']\n",
        "\n",
        "result = list(permutations(data, 3))\n",
        "print(result)\n",
        "\n",
        "# 조합\n",
        "from itertools import combinations\n",
        "\n",
        "data = ['A', 'B', 'C']\n",
        "\n",
        "result = list(combinations(data, 2))\n",
        "print(result)\n",
        "\n",
        "# 중복 순열\n",
        "from itertools import product\n",
        "\n",
        "data = ['A', 'B', 'C']\n",
        "\n",
        "result = list(product(data, repeat=2))\n",
        "print(result)\n",
        "\n",
        "# 중복 조합\n",
        "from itertools import combinations_with_replacement\n",
        "\n",
        "data = ['A', 'B', 'C']\n",
        "\n",
        "result = list(combinations_with_replacement(data, 2))\n",
        "print(result)"
      ],
      "metadata": {
        "colab": {
          "base_uri": "https://localhost:8080/"
        },
        "id": "iHLy_AJw9ii9",
        "outputId": "a88f7989-d925-4b24-88bc-cfd4eb74bdf9"
      },
      "execution_count": null,
      "outputs": [
        {
          "output_type": "stream",
          "name": "stdout",
          "text": [
            "[('A', 'B', 'C'), ('A', 'C', 'B'), ('B', 'A', 'C'), ('B', 'C', 'A'), ('C', 'A', 'B'), ('C', 'B', 'A')]\n",
            "[('A', 'B'), ('A', 'C'), ('B', 'C')]\n",
            "[('A', 'A'), ('A', 'B'), ('A', 'C'), ('B', 'A'), ('B', 'B'), ('B', 'C'), ('C', 'A'), ('C', 'B'), ('C', 'C')]\n",
            "[('A', 'A'), ('A', 'B'), ('A', 'C'), ('B', 'B'), ('B', 'C'), ('C', 'C')]\n"
          ]
        }
      ]
    },
    {
      "cell_type": "code",
      "source": [
        "# collections\n",
        "\n",
        "from collections import Counter\n",
        "counter = Counter(['red', 'blue', 'red', 'green', 'blue', 'blue'])\n",
        "\n",
        "print(counter['blue'])\n",
        "print(counter['green'])\n",
        "print(dict(counter))"
      ],
      "metadata": {
        "colab": {
          "base_uri": "https://localhost:8080/"
        },
        "id": "u1d6MyO7-q99",
        "outputId": "5b4eaeff-6881-4d03-b899-0ad51c85f978"
      },
      "execution_count": null,
      "outputs": [
        {
          "output_type": "stream",
          "name": "stdout",
          "text": [
            "3\n",
            "1\n",
            "{'red': 2, 'blue': 3, 'green': 1}\n"
          ]
        }
      ]
    },
    {
      "cell_type": "code",
      "source": [
        "# math\n",
        "\n",
        "import math\n",
        "\n",
        "# 최소 공배수, 최대 공약수\n",
        "def lcm(a, b):\n",
        "  return a * b // math.gcd(a, b)\n",
        "\n",
        "a = 15\n",
        "b = 24\n",
        "\n",
        "print(math.gcd(a,b)) # 최대 공약수\n",
        "print(lcm(a,b))      # 최소 공배수"
      ],
      "metadata": {
        "colab": {
          "base_uri": "https://localhost:8080/"
        },
        "id": "SpRcN3uK_p-U",
        "outputId": "c36ff557-b46c-45e4-9c34-f8d082cabbd9"
      },
      "execution_count": null,
      "outputs": [
        {
          "output_type": "stream",
          "name": "stdout",
          "text": [
            "3\n",
            "120\n"
          ]
        }
      ]
    },
    {
      "cell_type": "markdown",
      "source": [
        "# 그리디 알고리즘"
      ],
      "metadata": {
        "id": "uA2UG65bBWvF"
      }
    },
    {
      "cell_type": "markdown",
      "source": [
        "## 1이 될 때까지"
      ],
      "metadata": {
        "id": "UUpJd85yTqo4"
      }
    },
    {
      "cell_type": "code",
      "source": [
        "n, k = map(int, input().split())\n",
        "\n",
        "result = 0\n",
        "\n",
        "while True:\n",
        "  a = (n//k)*k\n",
        "  b = n-a\n",
        "  result += b\n",
        "  n = a\n",
        "  if n < k:\n",
        "    break\n",
        "  result +=1\n",
        "  n = n // k\n",
        "\n",
        "result += (n-1)\n",
        "print(result)"
      ],
      "metadata": {
        "colab": {
          "base_uri": "https://localhost:8080/"
        },
        "id": "gJFP8mhVBYx-",
        "outputId": "f73bcc7f-6f6b-466c-ca31-71aec5417070"
      },
      "execution_count": null,
      "outputs": [
        {
          "output_type": "stream",
          "name": "stdout",
          "text": [
            "24 5\n",
            "8\n"
          ]
        }
      ]
    },
    {
      "cell_type": "markdown",
      "source": [
        "## 곱하기 혹은 더하기"
      ],
      "metadata": {
        "id": "yR9jT-8mTm6s"
      }
    },
    {
      "cell_type": "code",
      "source": [
        "n = list(input())\n",
        "# print(n)\n",
        "result = int(n[0])\n",
        "for i in range(1,len(n)):\n",
        "  n[i] = int(n[i])\n",
        "  if n[i] != 0 and n[i] != 1 and result != 0 and result != 1:\n",
        "    result *= int(n[i])\n",
        "  else:\n",
        "    result += int(n[i])\n",
        "print(result)"
      ],
      "metadata": {
        "colab": {
          "base_uri": "https://localhost:8080/"
        },
        "id": "7Gt_khg2K8BD",
        "outputId": "b0029712-acdc-41e0-d393-57ec2e363c23"
      },
      "execution_count": null,
      "outputs": [
        {
          "output_type": "stream",
          "name": "stdout",
          "text": [
            "12300\n",
            "9\n"
          ]
        }
      ]
    },
    {
      "cell_type": "markdown",
      "source": [
        "## 모험가 길드"
      ],
      "metadata": {
        "id": "kSokjok7TgCp"
      }
    },
    {
      "cell_type": "code",
      "source": [
        "n = int(input())\n",
        "a = list(map(int, input().split()))\n",
        "a.sort()\n",
        "\n",
        "result = 0\n",
        "count = 0\n",
        "\n",
        "for i in a:\n",
        "  count +=1\n",
        "  if i <= count:\n",
        "    result += 1\n",
        "    count = 0\n",
        "\n",
        "print(result)"
      ],
      "metadata": {
        "colab": {
          "base_uri": "https://localhost:8080/"
        },
        "id": "7YeUS_IkRuW5",
        "outputId": "8330d18f-ca3a-4271-a93a-96569b5833ad"
      },
      "execution_count": null,
      "outputs": [
        {
          "output_type": "stream",
          "name": "stdout",
          "text": [
            "5\n",
            "1 2 2 2 2\n",
            "3\n"
          ]
        }
      ]
    },
    {
      "cell_type": "markdown",
      "source": [
        "# 구현: 시뮬레이션과 완전 탐색"
      ],
      "metadata": {
        "id": "eQBKIwFSUAip"
      }
    },
    {
      "cell_type": "markdown",
      "source": [
        "예시\n",
        "\n",
        "*   알고리즘은 간단한데 코드가 지나칠 만큼 길어지는 문제\n",
        "*   실수 연산을 다루고, 특정 소수점 자리까지 출력해야 하는 문제\n",
        "*   문자열을 특정한 기준에 따라서 끊어 처리해야 하는 문제\n",
        "*   적절한 라이브러리를 찾아서 사용해야 하는 문제\n",
        "\n"
      ],
      "metadata": {
        "id": "oeV_PBTXUh79"
      }
    },
    {
      "cell_type": "markdown",
      "source": [
        "## 상하좌우"
      ],
      "metadata": {
        "id": "uHzN5bi3Wgh9"
      }
    },
    {
      "cell_type": "code",
      "source": [
        "n = int(input())\n",
        "\n",
        "move = input().split()\n",
        "\n",
        "# R, U, L, D\n",
        "dx = [0, -1, 0, 1]\n",
        "dy = [1, 0, -1, 0]\n",
        "\n",
        "x, y = 1, 1\n",
        "\n",
        "for i in range(len(move)):\n",
        "  if move[i] == \"R\" and y != n:\n",
        "    x += dx[0]\n",
        "    y += dy[0]\n",
        "  elif move[i] == \"U\" and x != 1:\n",
        "    x += dx[1]\n",
        "    y += dy[1]\n",
        "  elif move[i] == \"L\" and y != n:\n",
        "    x += dx[2]\n",
        "    y += dy[2]\n",
        "  elif move[i] == \"D\" and x != n:\n",
        "    x += dx[3]\n",
        "    y += dy[3]\n",
        "\n",
        "print(x, y)"
      ],
      "metadata": {
        "colab": {
          "base_uri": "https://localhost:8080/"
        },
        "id": "WlZ1lj__TYac",
        "outputId": "0aa32388-ee8b-42e9-a290-554ed29ecea0"
      },
      "execution_count": null,
      "outputs": [
        {
          "output_type": "stream",
          "name": "stdout",
          "text": [
            "5\n",
            "R R R U D D\n",
            "3 4\n"
          ]
        }
      ]
    },
    {
      "cell_type": "markdown",
      "source": [
        "## 시각"
      ],
      "metadata": {
        "id": "OVH8s5aSakTR"
      }
    },
    {
      "cell_type": "code",
      "source": [
        "n = int(input())\n",
        "\n",
        "# 0:00:00 ~ X:59:59\n",
        "in3 = 60 * 60\n",
        "not3 = 60 * 60 - 5 * 9 * 5 * 9\n",
        "\n",
        "if n < 3:\n",
        "  answer = not3 * (n + 1)\n",
        "elif n < 13:\n",
        "  answer = not3 * n + in3\n",
        "elif n < 23:\n",
        "  answer = not3 * (n - 1) + in3 * 2\n",
        "else:\n",
        "  answer = not3 * (n - 2) + in3 * 3\n",
        "\n",
        "print(answer)"
      ],
      "metadata": {
        "id": "TmCZ78ubalkS",
        "colab": {
          "base_uri": "https://localhost:8080/"
        },
        "outputId": "cdc07f65-0c6f-4cb8-a2f5-eb52d8ffe63d"
      },
      "execution_count": null,
      "outputs": [
        {
          "output_type": "stream",
          "name": "stdout",
          "text": [
            "23\n",
            "43875\n"
          ]
        }
      ]
    },
    {
      "cell_type": "code",
      "source": [
        "# not my answer\n",
        "h = int(input())\n",
        "\n",
        "count = 0\n",
        "for i in range(h+1):\n",
        "  for j in range(60):\n",
        "    for k in range(60):\n",
        "      if '3' in str(i) + str(j) + str(k):\n",
        "        count += 1\n",
        "print(count)"
      ],
      "metadata": {
        "colab": {
          "base_uri": "https://localhost:8080/"
        },
        "id": "TFpqh8X77gHJ",
        "outputId": "8b423da5-ef82-44c1-96af-07087afc52d2"
      },
      "execution_count": null,
      "outputs": [
        {
          "output_type": "stream",
          "name": "stdout",
          "text": [
            "23\n",
            "43875\n"
          ]
        }
      ]
    },
    {
      "cell_type": "markdown",
      "source": [
        "## 왕실의 나이트"
      ],
      "metadata": {
        "id": "OuO5MZ4P8EqL"
      }
    },
    {
      "cell_type": "code",
      "source": [
        "letter = list(input())\n",
        "position = [0, 'a', 'b', 'c', 'd', 'e', 'f', 'g', 'h']\n",
        "x = position.index(letter[0])\n",
        "y = int(letter[1])\n",
        "count = 0\n",
        "\n",
        "dx = [2, 2, 1, -1, -2, -2, 1, -1]\n",
        "dy = [1, -1, 2, 2, 1, -1, -2, -2]\n",
        "\n",
        "for i in range(8):\n",
        "  if 0 < (x + dx[i]) < 9 and 0 < (y + dy[i]) < 9:\n",
        "    count += 1\n",
        "\n",
        "print(count)"
      ],
      "metadata": {
        "colab": {
          "base_uri": "https://localhost:8080/"
        },
        "id": "ibYdgFU38Aek",
        "outputId": "74fb6531-b97b-4f2b-9c4a-5c7e53aef03b"
      },
      "execution_count": null,
      "outputs": [
        {
          "output_type": "stream",
          "name": "stdout",
          "text": [
            "a1\n",
            "2\n"
          ]
        }
      ]
    },
    {
      "cell_type": "markdown",
      "source": [
        "## 문자열 재정렬"
      ],
      "metadata": {
        "id": "iaR4UxjEBskC"
      }
    },
    {
      "cell_type": "code",
      "source": [
        "# K1KA5CB7 / AJKDLSI412K4JSJ9D\n",
        "s = list(input())\n",
        "answer = []\n",
        "num_sum = 0\n",
        "for i in s:\n",
        "  if i.isdigit():\n",
        "    num_sum +=int(i)\n",
        "  else:\n",
        "    answer.append(i)\n",
        "answer.sort()\n",
        "if num_sum != 0:\n",
        "  answer.append(str(num_sum))\n",
        "print(\"\".join(answer))"
      ],
      "metadata": {
        "colab": {
          "base_uri": "https://localhost:8080/"
        },
        "id": "c_hiJq819CuI",
        "outputId": "47cf3a50-bc6d-4bf9-f358-30578011b1a2"
      },
      "execution_count": null,
      "outputs": [
        {
          "output_type": "stream",
          "name": "stdout",
          "text": [
            "ASDF\n",
            "ADFS\n"
          ]
        }
      ]
    },
    {
      "cell_type": "markdown",
      "source": [
        "# DFS / BFS"
      ],
      "metadata": {
        "id": "XHzMFjvIERw5"
      }
    },
    {
      "cell_type": "code",
      "source": [
        "# stack\n",
        "stack = []\n",
        "\n",
        "stack.append(5)\n",
        "stack.append(2)\n",
        "stack.append(3)\n",
        "stack.append(7)\n",
        "stack.pop()\n",
        "stack.append(1)\n",
        "stack.append(1)\n",
        "stack.pop()\n",
        "\n",
        "print(stack[:: -1])\n",
        "print(stack)"
      ],
      "metadata": {
        "colab": {
          "base_uri": "https://localhost:8080/"
        },
        "id": "1SLQkh30EV0Z",
        "outputId": "ad59a78c-4cf8-4112-eeaa-240fab742644"
      },
      "execution_count": null,
      "outputs": [
        {
          "output_type": "stream",
          "name": "stdout",
          "text": [
            "[1, 3, 2, 5]\n",
            "[5, 2, 3, 1]\n"
          ]
        }
      ]
    },
    {
      "cell_type": "code",
      "source": [
        "# queue\n",
        "from collections import deque\n",
        "\n",
        "queue = deque()\n",
        "\n",
        "queue.append(5)\n",
        "queue.append(2)\n",
        "queue.append(3)\n",
        "queue.append(7)\n",
        "queue.popleft()\n",
        "queue.append(1)\n",
        "queue.append(1)\n",
        "queue.popleft()\n",
        "\n",
        "print(queue)\n",
        "queue.reverse()\n",
        "print(queue)"
      ],
      "metadata": {
        "colab": {
          "base_uri": "https://localhost:8080/"
        },
        "id": "jeZ4tx3xXL6z",
        "outputId": "0e08b352-5513-445b-9a68-2a21bd7cd612"
      },
      "execution_count": null,
      "outputs": [
        {
          "output_type": "stream",
          "name": "stdout",
          "text": [
            "deque([3, 7, 1, 1])\n",
            "deque([1, 1, 7, 3])\n"
          ]
        }
      ]
    },
    {
      "cell_type": "markdown",
      "source": [
        "## 재귀 함수"
      ],
      "metadata": {
        "id": "QpkPMVUMYfjT"
      }
    },
    {
      "cell_type": "code",
      "source": [
        "def recursive_function(i):\n",
        "  if i == 5:\n",
        "    return\n",
        "  print(i, \"번째 재귀함수에서\", i+1, \"번째 재귀함수를 호출합니다.\")\n",
        "  recursive_function(i+1)\n",
        "  print(i, '번째 재귀함수를 종료합니다.')\n",
        "\n",
        "recursive_function(1)"
      ],
      "metadata": {
        "colab": {
          "base_uri": "https://localhost:8080/"
        },
        "id": "rGvg4hf2Yhje",
        "outputId": "f0796fcf-f127-4b11-b36a-9b15f794c894"
      },
      "execution_count": null,
      "outputs": [
        {
          "output_type": "stream",
          "name": "stdout",
          "text": [
            "1 번째 재귀함수에서 2 번째 재귀함수를 호출합니다.\n",
            "2 번째 재귀함수에서 3 번째 재귀함수를 호출합니다.\n",
            "3 번째 재귀함수에서 4 번째 재귀함수를 호출합니다.\n",
            "4 번째 재귀함수에서 5 번째 재귀함수를 호출합니다.\n",
            "4 번째 재귀함수를 종료합니다.\n",
            "3 번째 재귀함수를 종료합니다.\n",
            "2 번째 재귀함수를 종료합니다.\n",
            "1 번째 재귀함수를 종료합니다.\n"
          ]
        }
      ]
    },
    {
      "cell_type": "code",
      "source": [
        "def factorial(i):\n",
        "  if i != 1:\n",
        "    return i * factorial(i - 1)\n",
        "  else:\n",
        "    return 1\n",
        "\n",
        "factorial(5)"
      ],
      "metadata": {
        "colab": {
          "base_uri": "https://localhost:8080/"
        },
        "id": "SkOv_uDRZhze",
        "outputId": "622d2f09-a54f-4d39-e195-d4f118c4373e"
      },
      "execution_count": null,
      "outputs": [
        {
          "output_type": "execute_result",
          "data": {
            "text/plain": [
              "120"
            ]
          },
          "metadata": {},
          "execution_count": 25
        }
      ]
    },
    {
      "cell_type": "code",
      "source": [
        "def GCD(a, b):\n",
        "  if a % b == 0:\n",
        "    return b\n",
        "  else:\n",
        "    return GCD(b,a%b)\n",
        "\n",
        "GCD(192,162)"
      ],
      "metadata": {
        "colab": {
          "base_uri": "https://localhost:8080/"
        },
        "id": "AC4MzFgRa1YE",
        "outputId": "72fa5f01-121b-4428-9f24-48d3cb6d07a3"
      },
      "execution_count": null,
      "outputs": [
        {
          "output_type": "execute_result",
          "data": {
            "text/plain": [
              "6"
            ]
          },
          "metadata": {},
          "execution_count": 26
        }
      ]
    },
    {
      "cell_type": "markdown",
      "source": [
        "## DFS"
      ],
      "metadata": {
        "id": "z1RNqYbbctw7"
      }
    },
    {
      "cell_type": "code",
      "source": [
        "def dfs(graph, v, visited):\n",
        "  visited[v] = True\n",
        "  print(v, end=' ')\n",
        "  for i in graph[v]:\n",
        "    if visited[i] == False:\n",
        "      dfs(graph, i, visited)\n",
        "\n",
        "graph = [\n",
        "    [],\n",
        "    [2, 3, 8],\n",
        "    [1, 7],\n",
        "    [1, 4, 5],\n",
        "    [3, 5],\n",
        "    [3, 4],\n",
        "    [7],\n",
        "    [2, 6, 8],\n",
        "    [1, 7]\n",
        "]\n",
        "\n",
        "visited = [False]*9\n",
        "\n",
        "dfs(graph, 1, visited)"
      ],
      "metadata": {
        "colab": {
          "base_uri": "https://localhost:8080/"
        },
        "id": "sY3Vm9RdcON9",
        "outputId": "61fc7edd-0df1-4c2c-ed0a-c243b205204e"
      },
      "execution_count": null,
      "outputs": [
        {
          "output_type": "stream",
          "name": "stdout",
          "text": [
            "1 2 7 6 8 3 4 5 "
          ]
        }
      ]
    },
    {
      "cell_type": "markdown",
      "source": [
        "## BFS"
      ],
      "metadata": {
        "id": "LMpX2L15hlSI"
      }
    },
    {
      "cell_type": "code",
      "source": [
        "from collections import deque\n",
        "\n",
        "def bfs(graph, start, visited):\n",
        "  queue = deque([start])\n",
        "  visited[start] = True\n",
        "  while queue:\n",
        "    v = queue.popleft()\n",
        "    print(v, end=' ')\n",
        "    for i in graph[v]:\n",
        "      if not visited[i]:\n",
        "        queue.append(i)\n",
        "        visited[i] = True\n",
        "\n",
        "graph = [\n",
        "    [],\n",
        "    [2, 3, 8],\n",
        "    [1, 7],\n",
        "    [1, 4, 5],\n",
        "    [3, 5],\n",
        "    [3, 4],\n",
        "    [7],\n",
        "    [2, 6, 8],\n",
        "    [1, 7]\n",
        "]\n",
        "\n",
        "visited = [False]*9\n",
        "\n",
        "bfs(graph, 1, visited)"
      ],
      "metadata": {
        "colab": {
          "base_uri": "https://localhost:8080/"
        },
        "id": "cusjMFNahm99",
        "outputId": "85c7e669-a054-4d61-a130-f4ba3d430907"
      },
      "execution_count": null,
      "outputs": [
        {
          "output_type": "stream",
          "name": "stdout",
          "text": [
            "1 2 3 8 7 4 5 6 "
          ]
        }
      ]
    },
    {
      "cell_type": "code",
      "source": [
        "from collections import deque\n",
        "\n",
        "def bfs(graph, start, visited):\n",
        "  queue = deque([start])\n",
        "  visited[start] = True\n",
        "  while queue:\n",
        "    v = queue.popleft()\n",
        "    print(v, end=\" \")\n",
        "    for i in graph[v]:\n",
        "      if not visited[i]:\n",
        "        queue.append(i)\n",
        "        visited[i] = True\n",
        "\n",
        "graph = [\n",
        "    [],\n",
        "    [2, 3, 8],\n",
        "    [1, 7],\n",
        "    [1, 4, 5],\n",
        "    [3, 5],\n",
        "    [3, 4],\n",
        "    [7],\n",
        "    [2, 6, 8],\n",
        "    [1, 7]\n",
        "]\n",
        "\n",
        "visited = [False]*9\n",
        "\n",
        "bfs(graph, 1, visited)"
      ],
      "metadata": {
        "colab": {
          "base_uri": "https://localhost:8080/"
        },
        "id": "IALShqLQmng3",
        "outputId": "44d7ec11-ea11-45f7-bc53-11dd45cd3ccd"
      },
      "execution_count": null,
      "outputs": [
        {
          "output_type": "stream",
          "name": "stdout",
          "text": [
            "1 2 3 8 7 4 5 6 "
          ]
        }
      ]
    },
    {
      "cell_type": "code",
      "source": [
        "def dfs(x, y):\n",
        "  if x < 0 or x >= n or y < 0 or y >=n:\n",
        "    return False\n",
        "  if mat[x][y] == 0:\n",
        "    mat[x][y] = 1\n",
        "    dfs(x+1, y)\n",
        "    dfs(x-1, y)\n",
        "    dfs(x, y-1)\n",
        "    dfs(x, y+1)\n",
        "    return True\n",
        "  return False\n",
        "\n",
        "n, m = map(int, input().split())\n",
        "mat = []\n",
        "for i in range(n):\n",
        "  mat.append(list(map(int, input())))\n",
        "\n",
        "result = 0\n",
        "for i in range(n):\n",
        "  for j in range(m):\n",
        "    if dfs(i, j) == True:\n",
        "      result += 1\n",
        "\n",
        "print(result)"
      ],
      "metadata": {
        "colab": {
          "base_uri": "https://localhost:8080/"
        },
        "id": "9TqpIN0bqYjW",
        "outputId": "af7968bc-49e0-4293-86ce-df939bd0d7f8"
      },
      "execution_count": null,
      "outputs": [
        {
          "output_type": "stream",
          "name": "stdout",
          "text": [
            "3 3\n",
            "001\n",
            "010\n",
            "101\n",
            "3\n"
          ]
        }
      ]
    },
    {
      "cell_type": "code",
      "source": [
        "def dfs(x, y):\n",
        "  if x < 0 or x >= n or y < 0 or y>=n:\n",
        "    return False\n",
        "  if mat[x][y] == 0:\n",
        "    mat[x][y] = 1\n",
        "    dfs(x+1, y)\n",
        "    dfs(x-1, y)\n",
        "    dfs(x, y+1)\n",
        "    dfs(x, y-1)\n",
        "    return True\n",
        "  return False\n",
        "\n",
        "n, m = map(int, input().split())\n",
        "mat = []\n",
        "for i in range(n):\n",
        "  mat.append(list(map(int, input())))\n",
        "count = 0\n",
        "\n",
        "for i in range(n):\n",
        "  for j in range(m):\n",
        "    if dfs(i, j) == True:\n",
        "      count += 1\n",
        "\n",
        "print(count)"
      ],
      "metadata": {
        "colab": {
          "base_uri": "https://localhost:8080/"
        },
        "id": "UD7MVd6YvKfP",
        "outputId": "0ea5d2e7-0525-46f5-b8f7-bb7daa574d71"
      },
      "execution_count": null,
      "outputs": [
        {
          "output_type": "stream",
          "name": "stdout",
          "text": [
            "3 3\n",
            "001\n",
            "010\n",
            "101\n",
            "3\n"
          ]
        }
      ]
    },
    {
      "cell_type": "code",
      "source": [
        "from collections import deque\n",
        "\n",
        "def bfs(x,y):\n",
        "  queue = deque()\n",
        "  queue.append((x,y))\n",
        "  while queue:\n",
        "    x, y = queue.popleft()\n",
        "    for i in range(4):\n",
        "      nx = x + dx[i]\n",
        "      ny = y + dy[i]\n",
        "      if nx < 0 or nx >= n or ny < 0 or ny >= m:\n",
        "        continue\n",
        "      if mat[nx][ny] == 0:\n",
        "        continue\n",
        "      if mat[nx][ny] == 1:\n",
        "        mat[nx][ny] = mat[x][y] + 1\n",
        "        queue.append((nx,ny))\n",
        "  return mat[n-1][m-1]\n",
        "\n",
        "n,m = map(int, input().split())\n",
        "\n",
        "mat = []\n",
        "for i in range(n):\n",
        "  mat.append(list(map(int,input())))\n",
        "\n",
        "dx = [-1, 1, 0, 0]\n",
        "dy = [0, 0, -1, 1]\n",
        "\n",
        "print(bfs(0,0))"
      ],
      "metadata": {
        "id": "f_ZwRxp6whQm",
        "colab": {
          "base_uri": "https://localhost:8080/"
        },
        "outputId": "397dac85-1258-4250-b159-ddcd450f2472"
      },
      "execution_count": null,
      "outputs": [
        {
          "output_type": "stream",
          "name": "stdout",
          "text": [
            "3 3\n",
            "110\n",
            "010\n",
            "011\n",
            "5\n"
          ]
        }
      ]
    },
    {
      "cell_type": "markdown",
      "source": [
        "# 정렬"
      ],
      "metadata": {
        "id": "iT-N81yw9YhI"
      }
    },
    {
      "cell_type": "markdown",
      "source": [
        "![image.png](data:image/png;base64,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)"
      ],
      "metadata": {
        "id": "7J6YRg6AiGuw"
      }
    },
    {
      "cell_type": "markdown",
      "source": [
        "## 선택정렬"
      ],
      "metadata": {
        "id": "2OCu_OP29akH"
      }
    },
    {
      "cell_type": "code",
      "source": [
        "nums = list(map(int, input().split()))\n",
        "\n",
        "for i in range(len(nums)):\n",
        "  for j in range(len(nums)-i-1):\n",
        "    if nums[i] > nums[i+j+1]:\n",
        "      nums[i], nums[i+j+1] = nums[i+j+1], nums[i]\n",
        "\n",
        "print(nums)"
      ],
      "metadata": {
        "colab": {
          "base_uri": "https://localhost:8080/"
        },
        "id": "9pZ3fusw9Z9F",
        "outputId": "cce21791-6229-47ac-9c00-4026de03aab5"
      },
      "execution_count": null,
      "outputs": [
        {
          "output_type": "stream",
          "name": "stdout",
          "text": [
            "1 9 3 4 2 7 5 8 3\n",
            "[1, 2, 3, 3, 4, 5, 7, 8, 9]\n"
          ]
        }
      ]
    },
    {
      "cell_type": "code",
      "source": [
        "array = [7, 5, 9, 0, 3, 1, 6, 2, 4, 8]\n",
        "\n",
        "for i in range(len(array)):\n",
        "  min_index = i\n",
        "  for j in range(i+1, len(array)):\n",
        "    if array[min_index] > array[j]:\n",
        "      min_index = j\n",
        "  array[i], array[min_index] = array[min_index], array[i]\n",
        "\n",
        "print(array)"
      ],
      "metadata": {
        "colab": {
          "base_uri": "https://localhost:8080/"
        },
        "id": "W-4RJRzv_bpz",
        "outputId": "5064d06f-4479-4a5a-fbdf-94f9daabfedc"
      },
      "execution_count": null,
      "outputs": [
        {
          "output_type": "stream",
          "name": "stdout",
          "text": [
            "[0, 1, 2, 3, 4, 5, 6, 7, 8, 9]\n"
          ]
        }
      ]
    },
    {
      "cell_type": "markdown",
      "source": [
        "## 삽입정렬"
      ],
      "metadata": {
        "id": "bwJE0bE-AlBE"
      }
    },
    {
      "cell_type": "code",
      "source": [
        "# fail\n",
        "array = [7, 5, 9, 0, 3, 1, 6, 2, 4, 8]\n",
        "\n",
        "for i in range(len(array)-1):\n",
        "  for j in range(i+1):\n",
        "    if array[j] > array[i+1]:\n",
        "      array[j], array[i+1] = array[i+1], array[j]\n",
        "    else:\n",
        "      continue\n",
        "\n",
        "print(array)"
      ],
      "metadata": {
        "colab": {
          "base_uri": "https://localhost:8080/"
        },
        "id": "NfrSjgh3AmkI",
        "outputId": "85b2465f-0024-4ff1-a1aa-db6f2f51d3ef"
      },
      "execution_count": null,
      "outputs": [
        {
          "output_type": "stream",
          "name": "stdout",
          "text": [
            "[0, 1, 2, 3, 4, 5, 6, 7, 8, 9]\n"
          ]
        }
      ]
    },
    {
      "cell_type": "code",
      "source": [
        "array = [7, 5, 9, 0, 3, 1, 6, 2, 4, 8]\n",
        "\n",
        "for i in range(1, len(array)):\n",
        "  for j in range(i, 0, -1):\n",
        "    if array[j-1] > array[j]:\n",
        "      array[j-1], array[j] = array[j], array[j-1]\n",
        "    else:\n",
        "      break\n",
        "\n",
        "print(array)"
      ],
      "metadata": {
        "colab": {
          "base_uri": "https://localhost:8080/"
        },
        "id": "CM3b5OepD2HF",
        "outputId": "2fa06638-c431-4199-aa7d-d69c320eb2d3"
      },
      "execution_count": null,
      "outputs": [
        {
          "output_type": "stream",
          "name": "stdout",
          "text": [
            "[0, 1, 2, 3, 4, 5, 6, 7, 8, 9]\n"
          ]
        }
      ]
    },
    {
      "cell_type": "markdown",
      "source": [
        "## 퀵 정렬(again)"
      ],
      "metadata": {
        "id": "iU-Llj85Hz8d"
      }
    },
    {
      "cell_type": "code",
      "source": [
        "array = [7, 5, 9, 0, 3, 1, 6, 2, 4, 8]\n",
        "\n",
        "def quick_sort(array, start, end):\n",
        "  if start >=end:\n",
        "    return \n",
        "  pivot = start\n",
        "  left = start + 1\n",
        "  right = end\n",
        "  while(left<=right):\n",
        "    while(left <= end and array[left] <= array[pivot]):\n",
        "      left += 1\n",
        "    while(right >start and array[right] >= array[pivot]):\n",
        "      right -= 1\n",
        "    if left < right:\n",
        "      array[left], array[right] = array[right], array[left]\n",
        "    else:\n",
        "      array[right], array[pivot] = array[pivot], array[right]\n",
        "  quick_sort(array, start, right-1)\n",
        "  quick_sort(array, right+1, end)\n",
        "\n",
        "quick_sort(array, 0, len(array) - 1)\n",
        "print(array)"
      ],
      "metadata": {
        "colab": {
          "base_uri": "https://localhost:8080/"
        },
        "id": "AXvAey1RH10E",
        "outputId": "1565314c-b2cf-4dde-eaac-f3bf166b0863"
      },
      "execution_count": null,
      "outputs": [
        {
          "output_type": "stream",
          "name": "stdout",
          "text": [
            "[0, 1, 2, 3, 4, 5, 6, 7, 8, 9]\n"
          ]
        }
      ]
    },
    {
      "cell_type": "code",
      "source": [
        "array = [7, 5, 9, 0, 3, 1, 6, 2, 4, 8]\n",
        "\n",
        "def quick_sort2(array):\n",
        "  if len(array) <= 1:\n",
        "    return array\n",
        "  pivot = array[0]\n",
        "  tail = array[1:]\n",
        "  left = [i for i in tail if i <= pivot]\n",
        "  right = [i for i in tail if i > pivot]\n",
        "  return quick_sort2(left) + [pivot] + quick_sort2(right)\n",
        "\n",
        "quick_sort2(array)"
      ],
      "metadata": {
        "colab": {
          "base_uri": "https://localhost:8080/"
        },
        "id": "j2EgrjrKY5y5",
        "outputId": "4cda2dac-43f9-45e9-dfca-18dfb2add52f"
      },
      "execution_count": null,
      "outputs": [
        {
          "output_type": "execute_result",
          "data": {
            "text/plain": [
              "[0, 1, 2, 3, 4, 5, 6, 7, 8, 9]"
            ]
          },
          "metadata": {},
          "execution_count": 40
        }
      ]
    },
    {
      "cell_type": "markdown",
      "source": [
        "## 계수 정렬"
      ],
      "metadata": {
        "id": "bUhEpeKHcCqY"
      }
    },
    {
      "cell_type": "code",
      "source": [
        "array = [7, 5, 9, 0, 3, 1, 6, 2, 9, 1, 4, 8, 0, 5, 2]\n",
        "\n",
        "count = [0] * (max(array)+1)\n",
        "\n",
        "for i in array:\n",
        "  count[i] += 1\n",
        "\n",
        "for i in range(len(count)):\n",
        "  for _ in range(count[i]):\n",
        "    print(i, end=' ')"
      ],
      "metadata": {
        "colab": {
          "base_uri": "https://localhost:8080/"
        },
        "id": "UEIkuQL0cAk7",
        "outputId": "6825124f-076d-4f0c-abdd-f412351bfb44"
      },
      "execution_count": null,
      "outputs": [
        {
          "output_type": "stream",
          "name": "stdout",
          "text": [
            "0 0 1 1 2 2 3 4 5 5 6 7 8 9 9 "
          ]
        }
      ]
    },
    {
      "cell_type": "markdown",
      "source": [
        "## 두 배열의 원소 교체"
      ],
      "metadata": {
        "id": "ENGzuao3isJ3"
      }
    },
    {
      "cell_type": "code",
      "source": [
        "n, k = map(int, input().split())\n",
        "a = list(map(int, input().split()))\n",
        "b = list(map(int, input().split()))\n",
        "\n",
        "a.sort()\n",
        "b.sort()\n",
        "\n",
        "for i in range(k):\n",
        "  if a[i] < b[n-i-1]:\n",
        "    a[i], b[n-i-1] = b[n-i-1], a[i]\n",
        "  else:\n",
        "    break\n",
        "print(sum(a))"
      ],
      "metadata": {
        "colab": {
          "base_uri": "https://localhost:8080/"
        },
        "id": "tGdwJRe2ir2H",
        "outputId": "c310d251-c40a-418a-ffa6-7b331ffb2f16"
      },
      "execution_count": null,
      "outputs": [
        {
          "output_type": "stream",
          "name": "stdout",
          "text": [
            "5 3\n",
            "1 2 5 4 3\n",
            "5 5 6 6 5\n",
            "26\n"
          ]
        }
      ]
    },
    {
      "cell_type": "markdown",
      "source": [
        "# 이진 탐색"
      ],
      "metadata": {
        "id": "X4BWwS7Rl00Z"
      }
    },
    {
      "cell_type": "markdown",
      "source": [
        "## 재귀적 구현"
      ],
      "metadata": {
        "id": "BdA-Xyv-l6VO"
      }
    },
    {
      "cell_type": "code",
      "source": [
        "def binary_search(array, target, start, end):\n",
        "  if start > end:\n",
        "    return None\n",
        "  mid = (start + end) // 2\n",
        "  if array[mid] == target:\n",
        "    return mid\n",
        "  elif array[mid] > target:\n",
        "    return binary_search(array, target, start, mid-1)\n",
        "  elif array[mid] < target:\n",
        "    return binary_search(array, target, mid+1, end)\n",
        "\n",
        "n, target = list(map(int, input().split()))\n",
        "\n",
        "array = [1, 3, 5, 7, 9, 11, 13, 15, 17, 19]\n",
        "\n",
        "result = binary_search(array, target, 0, n - 1)\n",
        "\n",
        "if result == None:\n",
        "  print(\"원소가 없다!\")\n",
        "else:\n",
        "  print(result + 1)"
      ],
      "metadata": {
        "colab": {
          "base_uri": "https://localhost:8080/"
        },
        "id": "B5Zuh-a1l4ab",
        "outputId": "74d48c74-8a08-4e98-b46a-0ba2f3c30b02"
      },
      "execution_count": null,
      "outputs": [
        {
          "output_type": "stream",
          "name": "stdout",
          "text": [
            "10 9\n",
            "5\n"
          ]
        }
      ]
    },
    {
      "cell_type": "markdown",
      "source": [
        "## 이진 탐색 라이브러리"
      ],
      "metadata": {
        "id": "Ogq82AmixK2m"
      }
    },
    {
      "cell_type": "code",
      "source": [
        "from bisect import bisect_left, bisect_right\n",
        "\n",
        "a = [1, 2, 4, 4, 8]\n",
        "x = 4\n",
        "\n",
        "print(bisect_left(a,x))\n",
        "print(bisect_right(a,x))"
      ],
      "metadata": {
        "colab": {
          "base_uri": "https://localhost:8080/"
        },
        "id": "U2PyU5QuxOhy",
        "outputId": "61109c9c-a9ef-467f-82e6-7a52c7480235"
      },
      "execution_count": null,
      "outputs": [
        {
          "output_type": "stream",
          "name": "stdout",
          "text": [
            "2\n",
            "4\n"
          ]
        }
      ]
    },
    {
      "cell_type": "markdown",
      "source": [
        "### 값이 특정 범위에 속하는 데이터 개수 구하기"
      ],
      "metadata": {
        "id": "yqOeDgwQyMZl"
      }
    },
    {
      "cell_type": "code",
      "source": [
        "from bisect import bisect_left, bisect_right\n",
        "\n",
        "def count_by_range(a, left_value, right_value):\n",
        "  right_index = bisect_right(a, right_value)\n",
        "  left_index = bisect_left(a, left_value)\n",
        "  return right_index - left_index\n",
        "\n",
        "a = [1, 2, 3, 3, 3, 3, 4, 4, 8, 9]\n",
        "\n",
        "print(count_by_range(a, 4, 4))\n",
        "\n",
        "print(count_by_range(a, -1, 3))"
      ],
      "metadata": {
        "colab": {
          "base_uri": "https://localhost:8080/"
        },
        "id": "MO0SHXPYyKvl",
        "outputId": "28a15502-9031-4351-8e51-4ca6476450ba"
      },
      "execution_count": null,
      "outputs": [
        {
          "output_type": "stream",
          "name": "stdout",
          "text": [
            "2\n",
            "6\n"
          ]
        }
      ]
    },
    {
      "cell_type": "markdown",
      "source": [
        "## 파라메틱 서치\n",
        "떡볶이 떡 만들기"
      ],
      "metadata": {
        "id": "pIgoB6gQK8QJ"
      }
    },
    {
      "cell_type": "code",
      "source": [
        "n, m = map(int, input().split())\n",
        "\n",
        "h = list(map(int, input().split()))\n",
        "\n",
        "ans = max(h) - 1\n",
        "\n",
        "while 1:\n",
        "  sum = 0\n",
        "  for i in h:\n",
        "    if i > ans:\n",
        "      sum += i - ans\n",
        "  if sum >= m:\n",
        "    break\n",
        "  ans -= 1\n",
        "\n",
        "print(ans)"
      ],
      "metadata": {
        "colab": {
          "base_uri": "https://localhost:8080/"
        },
        "id": "wfHUvkerK-4o",
        "outputId": "8a0c018d-054a-4403-8cd5-46cdff68b361"
      },
      "execution_count": null,
      "outputs": [
        {
          "output_type": "stream",
          "name": "stdout",
          "text": [
            "4 6\n",
            "19 15 10 17\n",
            "15\n"
          ]
        }
      ]
    },
    {
      "cell_type": "code",
      "source": [
        "# fail\n",
        "def binary_search(a, target, start, end):\n",
        "  if start > end:\n",
        "    return False\n",
        "  mid = (start + end) // 2\n",
        "  sum = 0\n",
        "  for i in a:\n",
        "    if i > mid:\n",
        "      sum += i -mid\n",
        "  if target == sum:\n",
        "    return mid\n",
        "  elif target > sum:\n",
        "    return binary_search(a, target, start, mid-1)\n",
        "  else:\n",
        "    return binary_search(a, target, mid+1, end)\n",
        "\n",
        "n, m = map(int, input().split())\n",
        "\n",
        "a = list(map(int, input().split()))\n",
        "\n",
        "a.sort()\n",
        "\n",
        "print(binary_search(a, m, 0, max(a)-1))"
      ],
      "metadata": {
        "colab": {
          "base_uri": "https://localhost:8080/"
        },
        "id": "82wVmjGCVDup",
        "outputId": "7fd12af9-b4f1-4939-a448-448ac885bba7"
      },
      "execution_count": null,
      "outputs": [
        {
          "output_type": "stream",
          "name": "stdout",
          "text": [
            "4 6\n",
            "19 15 10 17\n",
            "15\n"
          ]
        }
      ]
    },
    {
      "cell_type": "code",
      "source": [
        "n, m = map(int, input().split())\n",
        "\n",
        "a = list(map(int, input().split()))\n",
        "\n",
        "start = 0\n",
        "end = max(a)\n",
        "\n",
        "result = 0\n",
        "while(start <= end):\n",
        "  total = 0\n",
        "  mid = (start + end) // 2\n",
        "  for i in a:\n",
        "    if i > mid:\n",
        "      total += i - mid\n",
        "  if total < m:\n",
        "    end = mid - 1\n",
        "  else:\n",
        "    result = mid\n",
        "    start = mid + 1\n",
        "\n",
        "print(result)"
      ],
      "metadata": {
        "colab": {
          "base_uri": "https://localhost:8080/"
        },
        "id": "viJUQF9Wbi44",
        "outputId": "ac24777c-4c5a-464b-da46-80e381115b61"
      },
      "execution_count": null,
      "outputs": [
        {
          "output_type": "stream",
          "name": "stdout",
          "text": [
            "4 6\n",
            "19 15 10 17\n",
            "15\n"
          ]
        }
      ]
    },
    {
      "cell_type": "markdown",
      "source": [
        "## 정렬된 배열에서 특정 수의 개수 구하기"
      ],
      "metadata": {
        "id": "UNbEYDU_evi9"
      }
    },
    {
      "cell_type": "code",
      "source": [
        "from bisect import bisect_left, bisect_right\n",
        "\n",
        "n, m = map(int, input().split())\n",
        "\n",
        "a = list(map(int, input().split()))\n",
        "\n",
        "left_index = bisect_left(a,m)\n",
        "right_index = bisect_right(a,m)\n",
        "\n",
        "if right_index - left_index == 0:\n",
        "  print(-1)\n",
        "else:\n",
        "  print(right_index - left_index)"
      ],
      "metadata": {
        "colab": {
          "base_uri": "https://localhost:8080/"
        },
        "id": "UwQXvtWXevGi",
        "outputId": "4111faa8-9748-41f5-aa0f-b9ccd1df6499"
      },
      "execution_count": null,
      "outputs": [
        {
          "output_type": "stream",
          "name": "stdout",
          "text": [
            "7 4\n",
            "1 1 2 2 2 2 3\n",
            "-1\n"
          ]
        }
      ]
    },
    {
      "cell_type": "markdown",
      "source": [
        "# 다이나믹 프로그래밍"
      ],
      "metadata": {
        "id": "4qzft3fzgFhX"
      }
    },
    {
      "cell_type": "code",
      "source": [
        "# 비효율적인 코드\n",
        "def fibo(n):\n",
        "  if n == 1 or n==2:\n",
        "    return 1\n",
        "  return fibo(n-1) + fibo(n-2)\n",
        "\n",
        "fibo(3)"
      ],
      "metadata": {
        "colab": {
          "base_uri": "https://localhost:8080/"
        },
        "id": "IPjQYldafo1J",
        "outputId": "78025a02-06d9-455a-cc4a-7d7131decbbc"
      },
      "execution_count": null,
      "outputs": [
        {
          "output_type": "execute_result",
          "data": {
            "text/plain": [
              "2"
            ]
          },
          "metadata": {},
          "execution_count": 14
        }
      ]
    },
    {
      "cell_type": "code",
      "source": [
        "# top-down\n",
        "d = [0] * 100\n",
        "\n",
        "def fibo(n):\n",
        "  if n == 1 or n==2:\n",
        "    return 1\n",
        "  if d[n] != 0:\n",
        "    return d[n]\n",
        "  d[n] = fibo(n-1) + fibo(n-2)\n",
        "  return d[n]\n",
        "\n",
        "fibo(99)"
      ],
      "metadata": {
        "colab": {
          "base_uri": "https://localhost:8080/"
        },
        "id": "wynT3s3miT01",
        "outputId": "7aee0ecc-652a-4e70-ee00-3dc8dae397d8"
      },
      "execution_count": null,
      "outputs": [
        {
          "output_type": "execute_result",
          "data": {
            "text/plain": [
              "218922995834555169026"
            ]
          },
          "metadata": {},
          "execution_count": 12
        }
      ]
    },
    {
      "cell_type": "code",
      "source": [
        "# bottom-up\n",
        "d = [0] * 100\n",
        "\n",
        "d[1] = 1\n",
        "d[2] = 1\n",
        "n = 99\n",
        "\n",
        "for i in range(3, n+1):\n",
        "  d[i] = d[i-1] + d[i-2]\n",
        "\n",
        "print(d[n])"
      ],
      "metadata": {
        "colab": {
          "base_uri": "https://localhost:8080/"
        },
        "id": "mKBDjXlUjtB-",
        "outputId": "ed6e59d7-3eef-4387-a253-bcaadbad1a71"
      },
      "execution_count": null,
      "outputs": [
        {
          "output_type": "stream",
          "name": "stdout",
          "text": [
            "218922995834555169026\n"
          ]
        }
      ]
    },
    {
      "cell_type": "markdown",
      "source": [
        "## 개미 전사"
      ],
      "metadata": {
        "id": "c_HZJlfWl7Bi"
      }
    },
    {
      "cell_type": "code",
      "source": [
        "n = int(input())\n",
        "a = list(map(int, input().split()))\n",
        "\n",
        "d = [0] * (n+1)\n",
        "d[1] = a[1]\n",
        "d[2] = max(a[1], a[2])\n",
        "\n",
        "for i in range(3, n+1):\n",
        "  d[i] = max((d[i-2]+a[i-1], d[i-1]))\n",
        "\n",
        "print(d[n])"
      ],
      "metadata": {
        "colab": {
          "base_uri": "https://localhost:8080/"
        },
        "id": "cd2OTdqal9Kx",
        "outputId": "95aa419c-34dd-497e-e42c-47edfd206d76"
      },
      "execution_count": null,
      "outputs": [
        {
          "output_type": "stream",
          "name": "stdout",
          "text": [
            "4\n",
            "1 3 1 5\n",
            "8\n"
          ]
        }
      ]
    },
    {
      "cell_type": "code",
      "source": [
        "n = int(input())\n",
        "array = list(map(int, input().split()))\n",
        "\n",
        "d = [0] * (100)\n",
        "d[0] = array[0]\n",
        "d[1] = max(array[0], array[1])\n",
        "\n",
        "for i in range(2, n):\n",
        "  d[i] = max((d[i-2]+a[i], d[i-1]))\n",
        "\n",
        "print(d[n-1])"
      ],
      "metadata": {
        "colab": {
          "base_uri": "https://localhost:8080/"
        },
        "id": "9WJFpp4Coyuc",
        "outputId": "1b05ccbf-cc07-4b94-92db-626401a69158"
      },
      "execution_count": null,
      "outputs": [
        {
          "output_type": "stream",
          "name": "stdout",
          "text": [
            "4\n",
            "1 3 1 5\n",
            "8\n"
          ]
        }
      ]
    },
    {
      "cell_type": "markdown",
      "source": [
        "## 1로 만들기"
      ],
      "metadata": {
        "id": "txagkS4CpfrM"
      }
    },
    {
      "cell_type": "code",
      "source": [
        "n = int(input())\n",
        "\n",
        "d = [0] * 150001\n",
        "\n",
        "d[1] = 0\n",
        "for i in range(1,n+1):\n",
        "  x = [i+1, 2*i, 3*i, 5*i]\n",
        "  for j in x:\n",
        "    if d[j] == 0:\n",
        "      d[j] = d[i] + 1\n",
        "    else:\n",
        "      d[j] = min(d[j], d[i] + 1)\n",
        "\n",
        "print(d[n])"
      ],
      "metadata": {
        "colab": {
          "base_uri": "https://localhost:8080/"
        },
        "id": "gRqqHwspphqL",
        "outputId": "4c427ec4-a316-4a42-ead4-50d76232412b"
      },
      "execution_count": null,
      "outputs": [
        {
          "output_type": "stream",
          "name": "stdout",
          "text": [
            "26\n",
            "3\n"
          ]
        }
      ]
    },
    {
      "cell_type": "code",
      "source": [
        "x = int(input())\n",
        "\n",
        "d = [0] * 30001\n",
        "\n",
        "for i in range(2, x + 1):\n",
        "  d[i] = d[i-1] + 1\n",
        "  if i%2 == 0:\n",
        "    d[i] = min((d[i//2]+1), d[i])\n",
        "  elif i%3 == 0:\n",
        "    d[i] = min((d[i//3]+1), d[i])\n",
        "  elif i%5 == 0:\n",
        "    d[i] = min((d[i//5]+1), d[i])\n",
        "\n",
        "print(d[x])"
      ],
      "metadata": {
        "colab": {
          "base_uri": "https://localhost:8080/"
        },
        "id": "FgjKm7nDuaez",
        "outputId": "a43ed5cd-ddb1-43b1-e827-bfb41244cc44"
      },
      "execution_count": null,
      "outputs": [
        {
          "output_type": "stream",
          "name": "stdout",
          "text": [
            "26\n",
            "3\n"
          ]
        }
      ]
    },
    {
      "cell_type": "markdown",
      "source": [
        "## 효율적인 화폐 구성"
      ],
      "metadata": {
        "id": "rk4ulLJfxWyt"
      }
    },
    {
      "cell_type": "code",
      "source": [
        "n, m = map(int, input().split())\n",
        "\n",
        "coins = []\n",
        "for i in range(n):\n",
        "  coins.append(int(input()))\n",
        "\n",
        "d = [10001]*(m+1)\n",
        "\n",
        "d[0] = 0\n",
        "for i in range(n):\n",
        "  for j in range(coins[i], m+1):\n",
        "    if d[j - coins[i]] != 10001:\n",
        "      d[j] = min(d[j], d[j-coins[i]]+1)\n",
        "\n",
        "if d[m] == 10001:\n",
        "  print(-1)\n",
        "else:\n",
        "  print(d[m])"
      ],
      "metadata": {
        "colab": {
          "base_uri": "https://localhost:8080/"
        },
        "id": "vDlk6geMxUff",
        "outputId": "d6c4528a-4f3a-4e82-b3a0-a7bdd8a1fa45"
      },
      "execution_count": null,
      "outputs": [
        {
          "output_type": "stream",
          "name": "stdout",
          "text": [
            "3 7\n",
            "2\n",
            "3\n",
            "5\n",
            "2\n"
          ]
        }
      ]
    },
    {
      "cell_type": "markdown",
      "source": [
        "## 금광"
      ],
      "metadata": {
        "id": "6J2iB86etyJG"
      }
    },
    {
      "cell_type": "code",
      "source": [
        "t = int(input())\n",
        "\n",
        "answer = []\n",
        "for i in range(t):\n",
        "  n, m = map(int, input().split())\n",
        "  a = list(map(int, input().split()))\n",
        "  d = []\n",
        "  index = 0\n",
        "  for i in range(n):\n",
        "    d.append(a[index:index+m])\n",
        "    index += m\n",
        "  for j in range(1, m):\n",
        "    for i in range(n):\n",
        "      if i == 0:\n",
        "        d[i][j] += max(d[i][j-1], d[i+1][j-1])\n",
        "      elif i == n-1:\n",
        "        d[i][j] += max(d[i][j-1], d[i-1][j-1])\n",
        "      else:\n",
        "        d[i][j] += max(d[i][j-1], d[i-1][j-1], d[i+1][j-1])\n",
        "  result = 0\n",
        "  for i in range(n):\n",
        "    result = max(result, d[i][m-1])\n",
        "  \n",
        "  answer.append(result)\n",
        "\n",
        "for i in answer:\n",
        "  print(i)\n",
        "\n",
        "# 2\n",
        "# 3 4\n",
        "# 1 3 3 2 2 1 4 1 0 6 4 7\n",
        "# 4 4\n",
        "# 1 3 1 5 2 2 4 1 5 0 2 3 0 6 1 2"
      ],
      "metadata": {
        "colab": {
          "base_uri": "https://localhost:8080/"
        },
        "id": "Z0diKO1ttzaC",
        "outputId": "00f863ee-93d9-4dfd-e91f-ea0f64da2f4b"
      },
      "execution_count": null,
      "outputs": [
        {
          "output_type": "stream",
          "name": "stdout",
          "text": [
            "2\n",
            "3 4\n",
            "1 3 3 2 2 1 4 1 0 6 4 7\n",
            "4 4\n",
            "1 3 1 5 2 2 4 1 5 0 2 3 0 6 1 2\n",
            "19\n",
            "16\n"
          ]
        }
      ]
    },
    {
      "cell_type": "markdown",
      "source": [
        "## 병사 배치하기(LIS 알고리즘)"
      ],
      "metadata": {
        "id": "kYHp-Vyx9BM-"
      }
    },
    {
      "cell_type": "code",
      "source": [
        "n = int(input())\n",
        "\n",
        "array = list(map(int, input().split()))\n",
        "\n",
        "array.reverse()\n",
        "\n",
        "d = [1] * n\n",
        "for i in range(1,n):\n",
        "  for j in range(0,i):\n",
        "    if array[j] < array[i]:\n",
        "      d[i] = max(d[i], d[j] + 1)\n",
        "\n",
        "print(n - max(d))"
      ],
      "metadata": {
        "colab": {
          "base_uri": "https://localhost:8080/"
        },
        "id": "iygr1r119DRr",
        "outputId": "261947c7-5ca8-4e95-b67d-3cc36edbf06d"
      },
      "execution_count": null,
      "outputs": [
        {
          "output_type": "stream",
          "name": "stdout",
          "text": [
            "7\n",
            "15 11 4 8 5 2 4\n",
            "2\n"
          ]
        }
      ]
    },
    {
      "cell_type": "code",
      "source": [
        "n = int(input())\n",
        "\n",
        "array = list(map(int, input().split()))\n",
        "\n",
        "array.reverse()\n",
        "\n",
        "for i in range(1,n):\n",
        "  for j in range(i):\n",
        "    if array[i] > array[j]:\n",
        "      d[i] = max(d[i], d[j]+1)\n",
        "\n",
        "print(n - max(d))"
      ],
      "metadata": {
        "id": "c36bqS8KHkeR",
        "colab": {
          "base_uri": "https://localhost:8080/"
        },
        "outputId": "202c8f6b-8123-418f-8abd-d61d55f31734"
      },
      "execution_count": null,
      "outputs": [
        {
          "output_type": "stream",
          "name": "stdout",
          "text": [
            "7\n",
            "15 11 4 8 5 2 4\n",
            "2\n"
          ]
        }
      ]
    },
    {
      "cell_type": "markdown",
      "source": [
        "# 최단 경로"
      ],
      "metadata": {
        "id": "6DcnYcFTKYL1"
      }
    },
    {
      "cell_type": "markdown",
      "source": [
        "## 다익스트라(그리디)\n",
        "\n",
        "\n",
        "1.   출발 노드를 설정\n",
        "2.   최단 거리 테이블을 초기화\n",
        "3.   방문하지 않은 노드 중에서 최단 거리가 가장 짧은 노드를 선택\n",
        "4.   해당 노드를 거쳐 다른 노드로 가는 비용을 계산하여 최단 거리 테이블을 갱신\n",
        "5.   위 과정에서 3번과 4번 반복\n",
        "\n"
      ],
      "metadata": {
        "id": "lCmLYIzrKaj4"
      }
    },
    {
      "cell_type": "code",
      "source": [
        "import sys\n",
        "input = sys.stdin.readline\n",
        "INF = int(1e9)\n",
        "\n",
        "n, m = map(int, input().split())\n",
        "start = int(input())\n",
        "graph = [[] for i in range(n+1)]\n",
        "visited = [False]*(n+1)\n",
        "distance = [INF] * (n+1)\n",
        "\n",
        "for _ in range(n):\n",
        "  a, b, c = map(int, input().split())\n",
        "  graph[a].append((b,c))\n",
        "\n",
        "def get_smallest_node():\n",
        "  min_value = INF\n",
        "  index = 0\n",
        "  for i in range(1, n+1):\n",
        "    if distance[i] < min_value and not visited[i]:\n",
        "      min_value = distance[i]\n",
        "      index += 1\n",
        "  return index\n",
        "\n",
        "def dijkstra(start):\n",
        "  distance[start] = 0\n",
        "  visited[start] = True\n",
        "  for j in graph[start]:\n",
        "    distance[j[0]] = j[i]\n",
        "  for i in range(n-1):\n",
        "    now = get_smallest_node()\n",
        "    visited[now] = True\n",
        "    for j in graph[now]:\n",
        "      cost = distance[now] + j[1]\n",
        "      if cost < distance[j[0]]:\n",
        "        distance[j[0]] = cost\n",
        "\n",
        "dijkstra(start)\n",
        "\n",
        "for i in range(1, n+1):\n",
        "  if distance[i] == INF:\n",
        "    print(\"INFINITY\")\n",
        "  else:\n",
        "    print(distance[i])"
      ],
      "metadata": {
        "id": "-LGO11DMKaAT"
      },
      "execution_count": null,
      "outputs": []
    },
    {
      "cell_type": "markdown",
      "source": [
        "## 우선순위 큐"
      ],
      "metadata": {
        "id": "14j4VkDLySd7"
      }
    },
    {
      "cell_type": "markdown",
      "source": [
        "![image.png](data:image/png;base64,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)"
      ],
      "metadata": {
        "id": "EhRUT47NyiXr"
      }
    },
    {
      "cell_type": "code",
      "source": [
        "# 최소 힙\n",
        "import heapq\n",
        "\n",
        "def heapsort(iterable):\n",
        "  h = []\n",
        "  result = []\n",
        "  for value in iterable:\n",
        "    heapq.heappush(h, value)\n",
        "  for i in range(len(h)):\n",
        "    result.append(heapq.heappop(h))\n",
        "  return result\n",
        "\n",
        "result = heapsort([1, 3, 5, 7, 9, 2, 4, 6, 8, 0])\n",
        "print(result)\n",
        "\n",
        "#최대 힙\n",
        "import heapq\n",
        "\n",
        "def heapsort(iterable):\n",
        "  h = []\n",
        "  result = []\n",
        "  for value in iterable:\n",
        "    heapq.heappush(h, -value)\n",
        "  for i in range(len(h)):\n",
        "    result.append(-heapq.heappop(h))\n",
        "  return result\n",
        "\n",
        "result = heapsort([1, 3, 5, 7, 9, 2, 4, 6, 8, 0])\n",
        "print(result)"
      ],
      "metadata": {
        "colab": {
          "base_uri": "https://localhost:8080/"
        },
        "id": "Ux5eafIuyjGX",
        "outputId": "9d903c0b-45cf-4c81-c07a-ba0625b45884"
      },
      "execution_count": null,
      "outputs": [
        {
          "output_type": "stream",
          "name": "stdout",
          "text": [
            "[0, 1, 2, 3, 4, 5, 6, 7, 8, 9]\n",
            "[9, 8, 7, 6, 5, 4, 3, 2, 1, 0]\n"
          ]
        }
      ]
    },
    {
      "cell_type": "code",
      "source": [
        "import heapq\n",
        "import sys\n",
        "input = sys.stdin.readline\n",
        "INF = int(1e9)\n",
        "\n",
        "n, m = map(int, input().split())\n",
        "start = int(input())\n",
        "graph = [[] for i in range(n+1)]\n",
        "distance = [INF] * (n+1)\n",
        "\n",
        "for _ in range(n):\n",
        "  a, b, c = map(int, input().split())\n",
        "  graph[a].append((b,c))\n",
        "\n",
        "def dijkstra(start):\n",
        "  q = []\n",
        "  heapq.heapqpush(q, (0, start))\n",
        "  distance[start] = 0\n",
        "  while q:\n",
        "    dist, now = heapq.heapqpop(q)\n",
        "    if distance[now] < dist:\n",
        "      continue\n",
        "    for i in graph[now]:\n",
        "      cost = distance[now] + i[1]\n",
        "      if cost < distance[i[0]]:\n",
        "        distance[i[0]] = cost\n",
        "        heapq.heappush(q, (cost, i[0]))\n",
        "\n",
        "dijkstra(start)\n",
        "\n",
        "for i in range(1, n+1):\n",
        "  if distance[i] == INF:\n",
        "    print(\"INFINITY\")\n",
        "  else:\n",
        "    print(distance[i])"
      ],
      "metadata": {
        "id": "IQ3pPmJfYmz0"
      },
      "execution_count": null,
      "outputs": []
    },
    {
      "cell_type": "markdown",
      "source": [
        "## 플로이드 워셜 알고리즘(node < 500)"
      ],
      "metadata": {
        "id": "2wL-FnJahrfR"
      }
    },
    {
      "cell_type": "code",
      "source": [
        "INF = int(1e9)\n",
        "\n",
        "n = int(input())\n",
        "m = int(input())\n",
        "graph = [[INF]*(n+1) for _ in range(n+1)]\n",
        "\n",
        "for a in range(1, n+1):\n",
        "  for b in range(1, n+1):\n",
        "    if a == b:\n",
        "      graph[a][b] = 0\n",
        "\n",
        "for _ in range(m):\n",
        "  a,b,c = map(int, input().split())\n",
        "  graph[a][b] = c\n",
        "\n",
        "for k in range(1, n+1):\n",
        "  for a in range(1, n+1):\n",
        "    for b in range(1, n+1):\n",
        "      graph[a][b] = min(graph[a][b], graph[a][k] + graph[k][b])\n",
        "\n",
        "for a in range(1, n+1):\n",
        "  for b in range(1, n+1):\n",
        "    if graph[a][b] == INF:\n",
        "      print(\"INFINITY\", end=' ')\n",
        "    else:\n",
        "      print(graph[a][b], end=' ')\n",
        "  print()"
      ],
      "metadata": {
        "id": "wS_-UY1bhu3h"
      },
      "execution_count": null,
      "outputs": []
    },
    {
      "cell_type": "markdown",
      "source": [
        "# 기타 알고리즘"
      ],
      "metadata": {
        "id": "R1E14dhXlQ7w"
      }
    },
    {
      "cell_type": "markdown",
      "source": [
        "## 소수 판별"
      ],
      "metadata": {
        "id": "ICg-woHtlS79"
      }
    },
    {
      "cell_type": "code",
      "source": [
        "def is_prime_number(x):\n",
        "  for i in range(2, x):\n",
        "    if x % i == 0:\n",
        "      return False\n",
        "  return True\n",
        "\n",
        "print(is_prime_number(6))\n",
        "print(is_prime_number(7))"
      ],
      "metadata": {
        "colab": {
          "base_uri": "https://localhost:8080/"
        },
        "id": "o0taDsV6lSXQ",
        "outputId": "73d254dd-565d-4a82-f538-8632320ae244"
      },
      "execution_count": 2,
      "outputs": [
        {
          "output_type": "stream",
          "name": "stdout",
          "text": [
            "False\n",
            "True\n"
          ]
        }
      ]
    },
    {
      "cell_type": "markdown",
      "source": [
        "### 약수 성질 이용"
      ],
      "metadata": {
        "id": "rHUi-a6dl7pc"
      }
    },
    {
      "cell_type": "code",
      "source": [
        "import math\n",
        "\n",
        "def is_prime_number(x):\n",
        "  for i in range(2, int(math.sqrt(x) + 1)):\n",
        "    if x % i == 0:\n",
        "      return False\n",
        "  return True\n",
        "\n",
        "print(is_prime_number(6))\n",
        "print(is_prime_number(7))"
      ],
      "metadata": {
        "colab": {
          "base_uri": "https://localhost:8080/"
        },
        "id": "GVB4N4A9l84J",
        "outputId": "1fb81733-da80-4572-c1e3-0cb3f36a768d"
      },
      "execution_count": 3,
      "outputs": [
        {
          "output_type": "stream",
          "name": "stdout",
          "text": [
            "False\n",
            "True\n"
          ]
        }
      ]
    },
    {
      "cell_type": "markdown",
      "source": [
        "### 에라토스테네스의 체 알고리즘"
      ],
      "metadata": {
        "id": "eu4fSfQdmrbm"
      }
    },
    {
      "cell_type": "code",
      "source": [
        "import math\n",
        "\n",
        "n = 1000\n",
        "array = [ True for i in range(n+1)]\n",
        "\n",
        "for i in range(2, int(math.sqrt(n))+1):\n",
        "  if array[i] == True:\n",
        "    j = 2\n",
        "    while i * j <= n:\n",
        "      array[i*j] = False\n",
        "      j +=1\n",
        "\n",
        "for i in range(2, n+1):\n",
        "  if array[i]:\n",
        "    print(i, end=' ')"
      ],
      "metadata": {
        "colab": {
          "base_uri": "https://localhost:8080/"
        },
        "id": "-7PYzRGZmwFY",
        "outputId": "409a6810-f6f3-446d-e159-c24aad4d2b2d"
      },
      "execution_count": 8,
      "outputs": [
        {
          "output_type": "stream",
          "name": "stdout",
          "text": [
            "2 3 5 7 11 13 17 19 23 29 31 37 41 43 47 53 59 61 67 71 73 79 83 89 97 101 103 107 109 113 127 131 137 139 149 151 157 163 167 173 179 181 191 193 197 199 211 223 227 229 233 239 241 251 257 263 269 271 277 281 283 293 307 311 313 317 331 337 347 349 353 359 367 373 379 383 389 397 401 409 419 421 431 433 439 443 449 457 461 463 467 479 487 491 499 503 509 521 523 541 547 557 563 569 571 577 587 593 599 601 607 613 617 619 631 641 643 647 653 659 661 673 677 683 691 701 709 719 727 733 739 743 751 757 761 769 773 787 797 809 811 821 823 827 829 839 853 857 859 863 877 881 883 887 907 911 919 929 937 941 947 953 967 971 977 983 991 997 "
          ]
        }
      ]
    },
    {
      "cell_type": "markdown",
      "source": [
        "## 투 포인터 알고리즘"
      ],
      "metadata": {
        "id": "k8ODSV1poO3T"
      }
    },
    {
      "cell_type": "code",
      "source": [
        "n = 5\n",
        "m = 5\n",
        "data = [1,2,3,2,5]\n",
        "\n",
        "count = 0\n",
        "interval_sum = 0\n",
        "end = 0\n",
        "\n",
        "for start in range(n):\n",
        "  while interval_sum < m and end < n:\n",
        "    interval_sum += data[end]\n",
        "    end += 1\n",
        "\n",
        "  if interval_sum == m:\n",
        "    count += 1\n",
        "  interval_sum -= data[start]\n",
        "\n",
        "print(count)"
      ],
      "metadata": {
        "colab": {
          "base_uri": "https://localhost:8080/"
        },
        "id": "1UBJaGGHn6KS",
        "outputId": "c1e30bb1-be3e-465f-e9bf-67ec20847d80"
      },
      "execution_count": 9,
      "outputs": [
        {
          "output_type": "stream",
          "name": "stdout",
          "text": [
            "3\n"
          ]
        }
      ]
    },
    {
      "cell_type": "code",
      "source": [
        "n = 5\n",
        "data = [10, 20, 30, 40, 50]\n",
        "\n",
        "sum_value = 0\n",
        "prefix_sum = [0]\n",
        "for i in data:\n",
        "  sum_value += i\n",
        "  prefix_sum.append(sum_value)\n",
        "\n",
        "left = 3\n",
        "right = 4\n",
        "print(prefix_sum[right] - prefix_sum[left - 1])"
      ],
      "metadata": {
        "colab": {
          "base_uri": "https://localhost:8080/"
        },
        "id": "iiknyr7sxElh",
        "outputId": "7121e2db-2331-490d-e0dd-aa74ae7dc227"
      },
      "execution_count": 10,
      "outputs": [
        {
          "output_type": "stream",
          "name": "stdout",
          "text": [
            "70\n"
          ]
        }
      ]
    }
  ]
}