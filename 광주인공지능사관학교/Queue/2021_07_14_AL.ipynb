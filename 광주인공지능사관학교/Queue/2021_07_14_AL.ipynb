{
  "nbformat": 4,
  "nbformat_minor": 0,
  "metadata": {
    "colab": {
      "name": "2021_07_14_AL.ipynb",
      "provenance": [],
      "collapsed_sections": []
    },
    "kernelspec": {
      "name": "python3",
      "display_name": "Python 3"
    },
    "language_info": {
      "name": "python"
    }
  },
  "cells": [
    {
      "cell_type": "code",
      "metadata": {
        "colab": {
          "base_uri": "https://localhost:8080/"
        },
        "id": "gED-g_oP7T9J",
        "outputId": "6e392e61-d198-4938-8812-9a9221d1bfaf"
      },
      "source": [
        "n = int(input())\n",
        "\n",
        "front_idx = 0\n",
        "back_idx = 0\n",
        "ans_list = [None for i in range (n)]\n",
        "\n",
        "for i in range (n):\n",
        "  command = input().split()\n",
        "  if command[0] == \"push\":\n",
        "    back_idx += 1\n",
        "    ans_list[back_idx - 1] = command[1]\n",
        "  if command[0] == 'front':\n",
        "    if front_idx == back_idx:\n",
        "      print(-1)\n",
        "    else:\n",
        "      print(ans_list[front_idx])\n",
        "  if command[0] == 'back':\n",
        "    if front_idx == back_idx:\n",
        "      print(-1)\n",
        "    else:\n",
        "      print(ans_list[back_idx-1])\n",
        "  if command[0] == 'empty':\n",
        "    if front_idx == back_idx:\n",
        "      print(1)\n",
        "    else:\n",
        "      print(0)\n",
        "  if command[0] == 'size':\n",
        "    print(back_idx - front_idx)\n",
        "  if command[0] == 'pop':\n",
        "    if front_idx == back_idx:\n",
        "      print(-1)\n",
        "    else:\n",
        "      front_idx += 1\n",
        "      print(ans_list[front_idx - 1])\n"
      ],
      "execution_count": null,
      "outputs": [
        {
          "output_type": "stream",
          "text": [
            "15\n",
            "push 1\n",
            "push 2\n",
            "front\n",
            "1\n",
            "back\n",
            "2\n",
            "size\n",
            "2\n",
            "empty\n",
            "0\n",
            "pop\n",
            "1\n",
            "pop\n",
            "2\n",
            "pop\n",
            "-1\n",
            "size\n",
            "0\n",
            "empty\n",
            "1\n",
            "pop\n",
            "-1\n",
            "push 3\n",
            "empty\n",
            "0\n",
            "front\n",
            "3\n"
          ],
          "name": "stdout"
        }
      ]
    },
    {
      "cell_type": "code",
      "metadata": {
        "colab": {
          "base_uri": "https://localhost:8080/"
        },
        "id": "-1w-EgzIMCnw",
        "outputId": "bd682f76-1103-40a7-900d-c85c3a25e7b1"
      },
      "source": [
        "# Class로 구축\n",
        "class Queue:\n",
        "  def __init__(self, n):\n",
        "    self.queue = [None for i in range (n)]\n",
        "    self.front_idx = 0\n",
        "    self.back_idx = 0\n",
        "  \n",
        "  def push(self, num):\n",
        "    self.back_idx += 1\n",
        "    self.queue[self.back_idx - 1] = num\n",
        "  \n",
        "  def front(self):\n",
        "    if self.front_idx == self.back_idx:\n",
        "      return -1\n",
        "    else:\n",
        "      return self.queue[self.front_idx]\n",
        "\n",
        "  def back(self):\n",
        "    if self.front_idx == self.back_idx:\n",
        "      return -1\n",
        "    else:\n",
        "      return self.queue[self.back_idx - 1]\n",
        "\n",
        "  def empty(self):\n",
        "    if self.front_idx == self.back_idx:\n",
        "      return 1\n",
        "    else:\n",
        "      return 0\n",
        "\n",
        "  def size(self):\n",
        "    return self.back_idx - self.front_idx\n",
        "\n",
        "  def pop(self):\n",
        "    if self.front_idx == self.back_idx:\n",
        "      return -1\n",
        "    else:\n",
        "      self.front_idx +=1\n",
        "      return self.queue[self.front_idx - 1]\n",
        "\n",
        "def run_cmd_with_queue(cmd, queue_lst):\n",
        "  cmd_type = cmd[0]\n",
        "\n",
        "  if cmd_type == 'push':\n",
        "    _, num = cmd\n",
        "    queue_lst.push(num)\n",
        "  elif cmd_type == 'front':\n",
        "    print(queue_lst.front())\n",
        "  elif cmd_type == 'back':\n",
        "    print(queue_lst.back())\n",
        "  elif cmd_type == 'empty':\n",
        "    print(queue_lst.empty())\n",
        "  elif cmd_type == 'size':\n",
        "    print(queue_lst.size())\n",
        "  elif cmd_type == 'pop':\n",
        "    print(queue_lst.pop())\n",
        "  \n",
        "  return queue_lst\n",
        "\n",
        "n = int(input())\n",
        "queue_lst = Queue(n)\n",
        "p\n",
        "for _ in range(n):\n",
        "  command = input().split()\n",
        "  queue_lst = run_cmd_with_queue(command, queue_lst)"
      ],
      "execution_count": null,
      "outputs": [
        {
          "output_type": "stream",
          "text": [
            "15\n",
            "push 1\n",
            "push 2\n",
            "front\n",
            "1\n",
            "back\n",
            "2\n",
            "size\n",
            "2\n",
            "empty\n",
            "0\n",
            "pop\n",
            "1\n",
            "pop\n",
            "2\n",
            "pop\n",
            "-1\n",
            "size\n",
            "0\n",
            "empty\n",
            "1\n",
            "pop\n",
            "-1\n",
            "push 3\n",
            "empty\n",
            "0\n",
            "front\n",
            "3\n"
          ],
          "name": "stdout"
        }
      ]
    },
    {
      "cell_type": "code",
      "metadata": {
        "id": "fjbkbpagUN7W"
      },
      "source": [
        ""
      ],
      "execution_count": null,
      "outputs": []
    }
  ]
}